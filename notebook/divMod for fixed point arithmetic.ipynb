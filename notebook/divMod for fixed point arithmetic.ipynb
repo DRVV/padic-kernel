{
 "cells": [
  {
   "cell_type": "code",
   "execution_count": 1,
   "id": "2bd12319",
   "metadata": {},
   "outputs": [],
   "source": [
    "import Data.Fixed"
   ]
  },
  {
   "cell_type": "code",
   "execution_count": 2,
   "id": "81e7cc58",
   "metadata": {},
   "outputs": [],
   "source": [
    "let a = 5.123 :: Fixed E2"
   ]
  },
  {
   "cell_type": "code",
   "execution_count": null,
   "id": "18c1610f",
   "metadata": {},
   "outputs": [
    {
     "data": {
      "text/plain": [
       "5.12"
      ]
     },
     "metadata": {},
     "output_type": "display_data"
    }
   ],
   "source": [
    "a"
   ]
  },
  {
   "cell_type": "code",
   "execution_count": 4,
   "id": "e8963df6",
   "metadata": {},
   "outputs": [
    {
     "data": {
      "text/plain": [
       "10.12"
      ]
     },
     "metadata": {},
     "output_type": "display_data"
    }
   ],
   "source": [
    "a + 5"
   ]
  },
  {
   "cell_type": "code",
   "execution_count": 5,
   "id": "99750371",
   "metadata": {},
   "outputs": [
    {
     "data": {
      "text/plain": [
       "10.24"
      ]
     },
     "metadata": {},
     "output_type": "display_data"
    }
   ],
   "source": [
    "a + a"
   ]
  },
  {
   "cell_type": "code",
   "execution_count": 6,
   "id": "6ed271ba",
   "metadata": {},
   "outputs": [
    {
     "data": {
      "text/plain": [
       "10.24"
      ]
     },
     "metadata": {},
     "output_type": "display_data"
    }
   ],
   "source": [
    "a + a"
   ]
  },
  {
   "cell_type": "code",
   "execution_count": 7,
   "id": "3fc45a53",
   "metadata": {},
   "outputs": [
    {
     "data": {
      "text/plain": [
       "51.20"
      ]
     },
     "metadata": {},
     "output_type": "display_data"
    }
   ],
   "source": [
    "a * 10"
   ]
  },
  {
   "cell_type": "code",
   "execution_count": 8,
   "id": "90a0c256",
   "metadata": {},
   "outputs": [
    {
     "data": {
      "text/plain": [
       "512.00"
      ]
     },
     "metadata": {},
     "output_type": "display_data"
    }
   ],
   "source": [
    "a * 100"
   ]
  },
  {
   "cell_type": "code",
   "execution_count": 9,
   "id": "346ec038",
   "metadata": {},
   "outputs": [
    {
     "data": {
      "text/plain": [
       "5120.00"
      ]
     },
     "metadata": {},
     "output_type": "display_data"
    }
   ],
   "source": [
    "a * 1000"
   ]
  },
  {
   "cell_type": "code",
   "execution_count": 10,
   "id": "c276839d",
   "metadata": {},
   "outputs": [
    {
     "ename": "",
     "evalue": "",
     "output_type": "error",
     "traceback": [
      "<interactive>:1:1: error:\n    The type signature for ‘a’ lacks an accompanying binding\n      (The type signature must be given where ‘a’ is declared)"
     ]
    }
   ],
   "source": [
    "a :: Fixed E3"
   ]
  },
  {
   "cell_type": "code",
   "execution_count": 11,
   "id": "8de5461a",
   "metadata": {},
   "outputs": [
    {
     "data": {
      "text/plain": [
       "10.000"
      ]
     },
     "metadata": {},
     "output_type": "display_data"
    }
   ],
   "source": [
    "10 :: Fixed E3"
   ]
  },
  {
   "cell_type": "code",
   "execution_count": 12,
   "id": "aeb1f501",
   "metadata": {},
   "outputs": [
    {
     "ename": "",
     "evalue": "",
     "output_type": "error",
     "traceback": [
      "<interactive>:1:15: error:\n    Not in scope: type constructor or class ‘E4’\n    Perhaps you meant one of these: ‘Eq’ (imported from Prelude), ‘E0’ (imported from Data.Fixed), ‘E1’ (imported from Data.Fixed)"
     ]
    }
   ],
   "source": [
    "1000 :: Fixed E4"
   ]
  },
  {
   "cell_type": "code",
   "execution_count": 13,
   "id": "eda2c910",
   "metadata": {},
   "outputs": [
    {
     "data": {
      "text/plain": [
       "1000.000"
      ]
     },
     "metadata": {},
     "output_type": "display_data"
    }
   ],
   "source": [
    "1000 :: Fixed E3"
   ]
  },
  {
   "cell_type": "code",
   "execution_count": 14,
   "id": "be9573ca",
   "metadata": {},
   "outputs": [
    {
     "data": {
      "text/plain": [
       "10"
      ]
     },
     "metadata": {},
     "output_type": "display_data"
    }
   ],
   "source": [
    "div' (10 :: Fixed E3) 1"
   ]
  },
  {
   "cell_type": "code",
   "execution_count": 15,
   "id": "5d6e64e0",
   "metadata": {},
   "outputs": [
    {
     "ename": "",
     "evalue": "",
     "output_type": "error",
     "traceback": [
      "<interactive>:1:1: error:\n    • No instance for (Integral (Fixed E3)) arising from a use of ‘div’\n    • In the expression: div (10 :: Fixed E3) 1\n      In an equation for ‘it’: it = div (10 :: Fixed E3) 1"
     ]
    }
   ],
   "source": [
    "div (10 :: Fixed E3) 1"
   ]
  },
  {
   "cell_type": "code",
   "execution_count": 16,
   "id": "d33a24a6",
   "metadata": {},
   "outputs": [
    {
     "data": {
      "text/plain": [
       "0"
      ]
     },
     "metadata": {},
     "output_type": "display_data"
    }
   ],
   "source": [
    "div 3 4"
   ]
  },
  {
   "cell_type": "code",
   "execution_count": 17,
   "id": "0cf89710",
   "metadata": {},
   "outputs": [
    {
     "ename": "",
     "evalue": "",
     "output_type": "error",
     "traceback": [
      "<interactive>:1:1: error:\n    • Ambiguous type variable ‘a0’ arising from a use of ‘print’\n      prevents the constraint ‘(Show a0)’ from being solved.\n      Probable fix: use a type annotation to specify what ‘a0’ should be.\n      These potential instances exist:\n        instance forall k (a :: k). HasResolution a => Show (Fixed a) -- Defined in ‘Data.Fixed’\n        instance Show IHaskellSysIO.HandlePosn -- Defined in ‘Handle’\n        instance Show IHaskellSysIO.BufferMode -- Defined in ‘Handle.Types’\n        ...plus 77 others\n        ...plus 54 instances involving out-of-scope types\n        (use -fprint-potential-instances to see them all)\n    • In a stmt of an interactive GHCi command: print it"
     ]
    }
   ],
   "source": [
    "div 4.5 2"
   ]
  },
  {
   "cell_type": "code",
   "execution_count": 18,
   "id": "90753e9d",
   "metadata": {},
   "outputs": [
    {
     "data": {
      "text/plain": [
       "2"
      ]
     },
     "metadata": {},
     "output_type": "display_data"
    }
   ],
   "source": [
    "div 4 2"
   ]
  },
  {
   "cell_type": "code",
   "execution_count": 19,
   "id": "807b0f31",
   "metadata": {},
   "outputs": [
    {
     "data": {
      "text/plain": [
       "2"
      ]
     },
     "metadata": {},
     "output_type": "display_data"
    }
   ],
   "source": [
    "div 5 2"
   ]
  },
  {
   "cell_type": "code",
   "execution_count": 20,
   "id": "3c20d1e3",
   "metadata": {},
   "outputs": [
    {
     "data": {
      "text/html": [
       "<style>/* Styles used for the Hoogle display in the pager */\n",
       ".hoogle-doc {\n",
       "display: block;\n",
       "padding-bottom: 1.3em;\n",
       "padding-left: 0.4em;\n",
       "}\n",
       ".hoogle-code {\n",
       "display: block;\n",
       "font-family: monospace;\n",
       "white-space: pre;\n",
       "}\n",
       ".hoogle-text {\n",
       "display: block;\n",
       "}\n",
       ".hoogle-name {\n",
       "color: green;\n",
       "font-weight: bold;\n",
       "}\n",
       ".hoogle-head {\n",
       "font-weight: bold;\n",
       "}\n",
       ".hoogle-sub {\n",
       "display: block;\n",
       "margin-left: 0.4em;\n",
       "}\n",
       ".hoogle-package {\n",
       "font-weight: bold;\n",
       "font-style: italic;\n",
       "}\n",
       ".hoogle-module {\n",
       "font-weight: bold;\n",
       "}\n",
       ".hoogle-class {\n",
       "font-weight: bold;\n",
       "}\n",
       ".get-type {\n",
       "color: green;\n",
       "font-weight: bold;\n",
       "font-family: monospace;\n",
       "display: block;\n",
       "white-space: pre-wrap;\n",
       "}\n",
       ".show-type {\n",
       "color: green;\n",
       "font-weight: bold;\n",
       "font-family: monospace;\n",
       "margin-left: 1em;\n",
       "}\n",
       ".mono {\n",
       "font-family: monospace;\n",
       "display: block;\n",
       "}\n",
       ".err-msg {\n",
       "color: red;\n",
       "font-style: italic;\n",
       "font-family: monospace;\n",
       "white-space: pre;\n",
       "display: block;\n",
       "}\n",
       "#unshowable {\n",
       "color: red;\n",
       "font-weight: bold;\n",
       "}\n",
       ".err-msg.in.collapse {\n",
       "padding-top: 0.7em;\n",
       "}\n",
       ".highlight-code {\n",
       "white-space: pre;\n",
       "font-family: monospace;\n",
       "}\n",
       ".suggestion-warning { \n",
       "font-weight: bold;\n",
       "color: rgb(200, 130, 0);\n",
       "}\n",
       ".suggestion-error { \n",
       "font-weight: bold;\n",
       "color: red;\n",
       "}\n",
       ".suggestion-name {\n",
       "font-weight: bold;\n",
       "}\n",
       "</style><span class='get-type'>div :: forall a. Integral a => a -> a -> a</span>"
      ],
      "text/plain": [
       "div :: forall a. Integral a => a -> a -> a"
      ]
     },
     "metadata": {},
     "output_type": "display_data"
    }
   ],
   "source": [
    ":t div"
   ]
  },
  {
   "cell_type": "code",
   "execution_count": 21,
   "id": "fe842089",
   "metadata": {},
   "outputs": [
    {
     "data": {
      "text/html": [
       "<style>/* Styles used for the Hoogle display in the pager */\n",
       ".hoogle-doc {\n",
       "display: block;\n",
       "padding-bottom: 1.3em;\n",
       "padding-left: 0.4em;\n",
       "}\n",
       ".hoogle-code {\n",
       "display: block;\n",
       "font-family: monospace;\n",
       "white-space: pre;\n",
       "}\n",
       ".hoogle-text {\n",
       "display: block;\n",
       "}\n",
       ".hoogle-name {\n",
       "color: green;\n",
       "font-weight: bold;\n",
       "}\n",
       ".hoogle-head {\n",
       "font-weight: bold;\n",
       "}\n",
       ".hoogle-sub {\n",
       "display: block;\n",
       "margin-left: 0.4em;\n",
       "}\n",
       ".hoogle-package {\n",
       "font-weight: bold;\n",
       "font-style: italic;\n",
       "}\n",
       ".hoogle-module {\n",
       "font-weight: bold;\n",
       "}\n",
       ".hoogle-class {\n",
       "font-weight: bold;\n",
       "}\n",
       ".get-type {\n",
       "color: green;\n",
       "font-weight: bold;\n",
       "font-family: monospace;\n",
       "display: block;\n",
       "white-space: pre-wrap;\n",
       "}\n",
       ".show-type {\n",
       "color: green;\n",
       "font-weight: bold;\n",
       "font-family: monospace;\n",
       "margin-left: 1em;\n",
       "}\n",
       ".mono {\n",
       "font-family: monospace;\n",
       "display: block;\n",
       "}\n",
       ".err-msg {\n",
       "color: red;\n",
       "font-style: italic;\n",
       "font-family: monospace;\n",
       "white-space: pre;\n",
       "display: block;\n",
       "}\n",
       "#unshowable {\n",
       "color: red;\n",
       "font-weight: bold;\n",
       "}\n",
       ".err-msg.in.collapse {\n",
       "padding-top: 0.7em;\n",
       "}\n",
       ".highlight-code {\n",
       "white-space: pre;\n",
       "font-family: monospace;\n",
       "}\n",
       ".suggestion-warning { \n",
       "font-weight: bold;\n",
       "color: rgb(200, 130, 0);\n",
       "}\n",
       ".suggestion-error { \n",
       "font-weight: bold;\n",
       "color: red;\n",
       "}\n",
       ".suggestion-name {\n",
       "font-weight: bold;\n",
       "}\n",
       "</style><span class='get-type'>div' :: forall a b. (Real a, Integral b) => a -> a -> b</span>"
      ],
      "text/plain": [
       "div' :: forall a b. (Real a, Integral b) => a -> a -> b"
      ]
     },
     "metadata": {},
     "output_type": "display_data"
    }
   ],
   "source": [
    ":t div'"
   ]
  },
  {
   "cell_type": "code",
   "execution_count": 22,
   "id": "fbf2e4d0",
   "metadata": {},
   "outputs": [
    {
     "data": {
      "text/plain": [
       "(0,3)"
      ]
     },
     "metadata": {},
     "output_type": "display_data"
    }
   ],
   "source": [
    "divMod 3 4"
   ]
  },
  {
   "cell_type": "code",
   "execution_count": 23,
   "id": "9aaf15c6",
   "metadata": {},
   "outputs": [
    {
     "data": {
      "text/html": [
       "<style>/* Styles used for the Hoogle display in the pager */\n",
       ".hoogle-doc {\n",
       "display: block;\n",
       "padding-bottom: 1.3em;\n",
       "padding-left: 0.4em;\n",
       "}\n",
       ".hoogle-code {\n",
       "display: block;\n",
       "font-family: monospace;\n",
       "white-space: pre;\n",
       "}\n",
       ".hoogle-text {\n",
       "display: block;\n",
       "}\n",
       ".hoogle-name {\n",
       "color: green;\n",
       "font-weight: bold;\n",
       "}\n",
       ".hoogle-head {\n",
       "font-weight: bold;\n",
       "}\n",
       ".hoogle-sub {\n",
       "display: block;\n",
       "margin-left: 0.4em;\n",
       "}\n",
       ".hoogle-package {\n",
       "font-weight: bold;\n",
       "font-style: italic;\n",
       "}\n",
       ".hoogle-module {\n",
       "font-weight: bold;\n",
       "}\n",
       ".hoogle-class {\n",
       "font-weight: bold;\n",
       "}\n",
       ".get-type {\n",
       "color: green;\n",
       "font-weight: bold;\n",
       "font-family: monospace;\n",
       "display: block;\n",
       "white-space: pre-wrap;\n",
       "}\n",
       ".show-type {\n",
       "color: green;\n",
       "font-weight: bold;\n",
       "font-family: monospace;\n",
       "margin-left: 1em;\n",
       "}\n",
       ".mono {\n",
       "font-family: monospace;\n",
       "display: block;\n",
       "}\n",
       ".err-msg {\n",
       "color: red;\n",
       "font-style: italic;\n",
       "font-family: monospace;\n",
       "white-space: pre;\n",
       "display: block;\n",
       "}\n",
       "#unshowable {\n",
       "color: red;\n",
       "font-weight: bold;\n",
       "}\n",
       ".err-msg.in.collapse {\n",
       "padding-top: 0.7em;\n",
       "}\n",
       ".highlight-code {\n",
       "white-space: pre;\n",
       "font-family: monospace;\n",
       "}\n",
       ".suggestion-warning { \n",
       "font-weight: bold;\n",
       "color: rgb(200, 130, 0);\n",
       "}\n",
       ".suggestion-error { \n",
       "font-weight: bold;\n",
       "color: red;\n",
       "}\n",
       ".suggestion-name {\n",
       "font-weight: bold;\n",
       "}\n",
       "</style><span class='get-type'>mod :: forall a. Integral a => a -> a -> a</span>"
      ],
      "text/plain": [
       "mod :: forall a. Integral a => a -> a -> a"
      ]
     },
     "metadata": {},
     "output_type": "display_data"
    }
   ],
   "source": [
    ":t mod"
   ]
  },
  {
   "cell_type": "code",
   "execution_count": 24,
   "id": "710a5ca1",
   "metadata": {},
   "outputs": [
    {
     "ename": "",
     "evalue": "",
     "output_type": "error",
     "traceback": [
      "<interactive>:1:1: error:\n    • Ambiguous type variable ‘a0’ arising from a use of ‘print’\n      prevents the constraint ‘(Show a0)’ from being solved.\n      Probable fix: use a type annotation to specify what ‘a0’ should be.\n      These potential instances exist:\n        instance forall k (a :: k). HasResolution a => Show (Fixed a) -- Defined in ‘Data.Fixed’\n        instance Show IHaskellSysIO.HandlePosn -- Defined in ‘Handle’\n        instance Show IHaskellSysIO.BufferMode -- Defined in ‘Handle.Types’\n        ...plus 77 others\n        ...plus 54 instances involving out-of-scope types\n        (use -fprint-potential-instances to see them all)\n    • In a stmt of an interactive GHCi command: print it"
     ]
    }
   ],
   "source": [
    "mod 3.4 3"
   ]
  },
  {
   "cell_type": "code",
   "execution_count": 25,
   "id": "2d7163d4",
   "metadata": {},
   "outputs": [
    {
     "data": {
      "text/html": [
       "<style>/* Styles used for the Hoogle display in the pager */\n",
       ".hoogle-doc {\n",
       "display: block;\n",
       "padding-bottom: 1.3em;\n",
       "padding-left: 0.4em;\n",
       "}\n",
       ".hoogle-code {\n",
       "display: block;\n",
       "font-family: monospace;\n",
       "white-space: pre;\n",
       "}\n",
       ".hoogle-text {\n",
       "display: block;\n",
       "}\n",
       ".hoogle-name {\n",
       "color: green;\n",
       "font-weight: bold;\n",
       "}\n",
       ".hoogle-head {\n",
       "font-weight: bold;\n",
       "}\n",
       ".hoogle-sub {\n",
       "display: block;\n",
       "margin-left: 0.4em;\n",
       "}\n",
       ".hoogle-package {\n",
       "font-weight: bold;\n",
       "font-style: italic;\n",
       "}\n",
       ".hoogle-module {\n",
       "font-weight: bold;\n",
       "}\n",
       ".hoogle-class {\n",
       "font-weight: bold;\n",
       "}\n",
       ".get-type {\n",
       "color: green;\n",
       "font-weight: bold;\n",
       "font-family: monospace;\n",
       "display: block;\n",
       "white-space: pre-wrap;\n",
       "}\n",
       ".show-type {\n",
       "color: green;\n",
       "font-weight: bold;\n",
       "font-family: monospace;\n",
       "margin-left: 1em;\n",
       "}\n",
       ".mono {\n",
       "font-family: monospace;\n",
       "display: block;\n",
       "}\n",
       ".err-msg {\n",
       "color: red;\n",
       "font-style: italic;\n",
       "font-family: monospace;\n",
       "white-space: pre;\n",
       "display: block;\n",
       "}\n",
       "#unshowable {\n",
       "color: red;\n",
       "font-weight: bold;\n",
       "}\n",
       ".err-msg.in.collapse {\n",
       "padding-top: 0.7em;\n",
       "}\n",
       ".highlight-code {\n",
       "white-space: pre;\n",
       "font-family: monospace;\n",
       "}\n",
       ".suggestion-warning { \n",
       "font-weight: bold;\n",
       "color: rgb(200, 130, 0);\n",
       "}\n",
       ".suggestion-error { \n",
       "font-weight: bold;\n",
       "color: red;\n",
       "}\n",
       ".suggestion-name {\n",
       "font-weight: bold;\n",
       "}\n",
       "</style><span class='get-type'>mod' :: forall a. Real a => a -> a -> a</span>"
      ],
      "text/plain": [
       "mod' :: forall a. Real a => a -> a -> a"
      ]
     },
     "metadata": {},
     "output_type": "display_data"
    }
   ],
   "source": [
    ":t mod'"
   ]
  },
  {
   "cell_type": "code",
   "execution_count": 28,
   "id": "00d59f9a",
   "metadata": {},
   "outputs": [
    {
     "data": {
      "text/plain": [
       "0.400"
      ]
     },
     "metadata": {},
     "output_type": "display_data"
    }
   ],
   "source": [
    "mod' (3.4::Fixed E3) 1"
   ]
  },
  {
   "cell_type": "code",
   "execution_count": 35,
   "id": "e6a4c34b",
   "metadata": {},
   "outputs": [],
   "source": [
    "findFracPart :: (Real a) => a->a\n",
    "findFracPart x = mod' x 1"
   ]
  },
  {
   "cell_type": "code",
   "execution_count": 37,
   "id": "2fd54709",
   "metadata": {},
   "outputs": [
    {
     "data": {
      "text/plain": [
       "0.11100000000000021"
      ]
     },
     "metadata": {},
     "output_type": "display_data"
    }
   ],
   "source": [
    "findFracPart 3.111"
   ]
  },
  {
   "cell_type": "code",
   "execution_count": 38,
   "id": "9b8428a3",
   "metadata": {},
   "outputs": [
    {
     "ename": "",
     "evalue": "",
     "output_type": "error",
     "traceback": [
      "<interactive>:1:18: error:\n    • Expected a constraint, but ‘Fixed a’ has kind ‘*’\n    • In the type signature: findFracPart' :: Fixed a => a -> a"
     ]
    }
   ],
   "source": [
    "findFracPart' :: Fixed a => a -> a\n",
    "findFracPart' x = mod' x 1"
   ]
  },
  {
   "cell_type": "markdown",
   "id": "3ad10b9e",
   "metadata": {},
   "source": [
    "This expression is not valid because Real is a typeclass, and it does not take any argument."
   ]
  },
  {
   "cell_type": "code",
   "execution_count": 39,
   "id": "0f4772ac",
   "metadata": {},
   "outputs": [
    {
     "ename": "",
     "evalue": "",
     "output_type": "error",
     "traceback": [
      "<interactive>:1:16: error:\n    • Expected a type, but ‘Real a’ has kind ‘Constraint’\n    • In the type signature: f :: Real a -> Real a\n<interactive>:1:6: error:\n    • Expected a type, but ‘Real a’ has kind ‘Constraint’\n    • In the type signature: f :: Real a -> Real a"
     ]
    }
   ],
   "source": [
    "f :: Real a -> Real a\n",
    "f x = x + 1"
   ]
  },
  {
   "cell_type": "markdown",
   "id": "7ddabbee",
   "metadata": {},
   "source": [
    "This expression is valid, because Real works as a constraint on type a.\n",
    "In words, the function f maps a to a, where a is an instance of Real."
   ]
  },
  {
   "cell_type": "code",
   "execution_count": 46,
   "id": "09741133",
   "metadata": {},
   "outputs": [],
   "source": [
    "f :: Real a => a -> a\n",
    "f x = x + 1"
   ]
  },
  {
   "cell_type": "markdown",
   "id": "1447f89b",
   "metadata": {},
   "source": [
    "This expression is not valid, because Real is a typeclass, not a concrete type itself."
   ]
  },
  {
   "cell_type": "code",
   "execution_count": 47,
   "id": "4b463858",
   "metadata": {},
   "outputs": [
    {
     "ename": "",
     "evalue": "",
     "output_type": "error",
     "traceback": [
      "<interactive>:1:14: error:\n    • Expecting one more argument to ‘Real’\n      Expected a type, but ‘Real’ has kind ‘* -> Constraint’\n    • In the type signature: f :: Real -> Real\n<interactive>:1:6: error:\n    • Expecting one more argument to ‘Real’\n      Expected a type, but ‘Real’ has kind ‘* -> Constraint’\n    • In the type signature: f :: Real -> Real"
     ]
    }
   ],
   "source": [
    "f :: Real -> Real\n",
    "f x = x + 1"
   ]
  },
  {
   "cell_type": "markdown",
   "id": "8a508fd5",
   "metadata": {},
   "source": [
    "Now let's define valid function that returns fractional part."
   ]
  },
  {
   "cell_type": "code",
   "execution_count": 52,
   "id": "ff38ad82",
   "metadata": {},
   "outputs": [
    {
     "ename": "",
     "evalue": "",
     "output_type": "error",
     "traceback": [
      "Parse error (line 1, column 28): parse error on input `,'"
     ]
    }
   ],
   "source": [
    "fracPart :: HasResolution a, Real a => a -> a\n",
    "fracPart x = mod' x (1 :: a)"
   ]
  },
  {
   "cell_type": "code",
   "execution_count": 53,
   "id": "dae02056",
   "metadata": {},
   "outputs": [],
   "source": [
    "fracPart :: HasResolution a => Fixed a -> Fixed a\n",
    "fracPart x = mod' x 1"
   ]
  },
  {
   "cell_type": "code",
   "execution_count": 55,
   "id": "ca72258e",
   "metadata": {},
   "outputs": [
    {
     "ename": "",
     "evalue": "",
     "output_type": "error",
     "traceback": [
      "<interactive>:1:1: error:\n    • Ambiguous type variable ‘a0’ arising from a use of ‘print’\n      prevents the constraint ‘(HasResolution a0)’ from being solved.\n      Probable fix: use a type annotation to specify what ‘k0’, ‘a0’ should be.\n      These potential instances exist:\n        8 instances involving out-of-scope types\n        (use -fprint-potential-instances to see them all)\n    • In a stmt of an interactive GHCi command: print it"
     ]
    }
   ],
   "source": [
    "fracPart 1"
   ]
  },
  {
   "cell_type": "code",
   "execution_count": 59,
   "id": "2a8b9fe3",
   "metadata": {},
   "outputs": [
    {
     "data": {
      "text/plain": [
       "0.140000000000"
      ]
     },
     "metadata": {},
     "output_type": "display_data"
    }
   ],
   "source": [
    "fracPart 3.14 :: Fixed E12"
   ]
  },
  {
   "cell_type": "code",
   "execution_count": 72,
   "id": "158fa4a3",
   "metadata": {},
   "outputs": [],
   "source": [
    "divModFP :: (HasResolution a, Integral b) => Fixed a -> (b, Fixed a)\n",
    "divModFP x = divMod' x 1"
   ]
  },
  {
   "cell_type": "code",
   "execution_count": 73,
   "id": "a795abc5",
   "metadata": {},
   "outputs": [
    {
     "data": {
      "text/plain": [
       "(3,0.140000000000)"
      ]
     },
     "metadata": {},
     "output_type": "display_data"
    }
   ],
   "source": [
    "divModFP (3.14 :: Fixed E12)"
   ]
  },
  {
   "cell_type": "code",
   "execution_count": null,
   "id": "73a8eebd",
   "metadata": {},
   "outputs": [
    {
     "data": {
      "text/plain": [
       "(3,0.14000000000000012)"
      ]
     },
     "metadata": {},
     "output_type": "display_data"
    }
   ],
   "source": [
    "divMod' 3.14 1"
   ]
  },
  {
   "cell_type": "code",
   "execution_count": 48,
   "id": "b5a82849",
   "metadata": {},
   "outputs": [
    {
     "data": {},
     "metadata": {},
     "output_type": "display_data"
    }
   ],
   "source": [
    ":info RealFrac\n"
   ]
  },
  {
   "cell_type": "code",
   "execution_count": 49,
   "id": "64b17943",
   "metadata": {},
   "outputs": [
    {
     "data": {
      "text/plain": [
       "1"
      ]
     },
     "metadata": {},
     "output_type": "display_data"
    }
   ],
   "source": [
    " 1"
   ]
  },
  {
   "cell_type": "code",
   "execution_count": 40,
   "id": "a55b83d0",
   "metadata": {},
   "outputs": [
    {
     "data": {},
     "metadata": {},
     "output_type": "display_data"
    }
   ],
   "source": [
    ":info Real"
   ]
  },
  {
   "cell_type": "code",
   "execution_count": 42,
   "id": "6525a63b",
   "metadata": {},
   "outputs": [
    {
     "data": {},
     "metadata": {},
     "output_type": "display_data"
    }
   ],
   "source": [
    ":i Real"
   ]
  },
  {
   "cell_type": "code",
   "execution_count": 45,
   "id": "c79a91c8",
   "metadata": {},
   "outputs": [
    {
     "data": {
      "text/plain": [
       "3"
      ]
     },
     "metadata": {},
     "output_type": "display_data"
    }
   ],
   "source": [
    "3"
   ]
  },
  {
   "cell_type": "code",
   "execution_count": 44,
   "id": "793003db",
   "metadata": {},
   "outputs": [
    {
     "data": {},
     "metadata": {},
     "output_type": "display_data"
    }
   ],
   "source": [
    ":i Rational"
   ]
  },
  {
   "cell_type": "code",
   "execution_count": null,
   "id": "88be8441",
   "metadata": {},
   "outputs": [],
   "source": []
  }
 ],
 "metadata": {
  "kernelspec": {
   "display_name": "Haskell",
   "language": "haskell",
   "name": "haskell"
  },
  "language_info": {
   "codemirror_mode": "ihaskell",
   "file_extension": ".hs",
   "mimetype": "text/x-haskell",
   "name": "haskell",
   "pygments_lexer": "Haskell",
   "version": "9.2.7"
  }
 },
 "nbformat": 4,
 "nbformat_minor": 5
}
