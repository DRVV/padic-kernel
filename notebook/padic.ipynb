{
 "cells": [
  {
   "cell_type": "markdown",
   "id": "54c68575",
   "metadata": {},
   "source": [
    "## p-adic valuation"
   ]
  },
  {
   "cell_type": "code",
   "execution_count": 23,
   "id": "37e906d1",
   "metadata": {},
   "outputs": [],
   "source": [
    "padicValuation :: Int -> Int -> Int\n",
    "padicValuation num p\n",
    "    | num `mod` p /= 0 = 0\n",
    "    | otherwise = 1 + padicValuation (num `div` p) p"
   ]
  },
  {
   "cell_type": "code",
   "execution_count": 24,
   "id": "ce574410",
   "metadata": {},
   "outputs": [
    {
     "data": {
      "text/plain": [
       "0"
      ]
     },
     "metadata": {},
     "output_type": "display_data"
    }
   ],
   "source": [
    "padicValuation 3 5"
   ]
  },
  {
   "cell_type": "code",
   "execution_count": 25,
   "id": "dfb6d9ac",
   "metadata": {},
   "outputs": [
    {
     "data": {
      "text/plain": [
       "2"
      ]
     },
     "metadata": {},
     "output_type": "display_data"
    }
   ],
   "source": [
    "padicValuation 4 2"
   ]
  },
  {
   "cell_type": "markdown",
   "id": "5ae18f1c",
   "metadata": {},
   "source": [
    "### cannot check if the divisor is prime"
   ]
  },
  {
   "cell_type": "code",
   "execution_count": 26,
   "id": "537b7d01",
   "metadata": {},
   "outputs": [
    {
     "data": {
      "text/plain": [
       "1"
      ]
     },
     "metadata": {},
     "output_type": "display_data"
    }
   ],
   "source": [
    "padicValuation 12 4"
   ]
  },
  {
   "cell_type": "code",
   "execution_count": 27,
   "id": "42fb1e3b",
   "metadata": {},
   "outputs": [
    {
     "data": {
      "text/plain": [
       "2"
      ]
     },
     "metadata": {},
     "output_type": "display_data"
    }
   ],
   "source": [
    "padicValuation 16 4"
   ]
  },
  {
   "cell_type": "markdown",
   "id": "b5dfdfc9",
   "metadata": {},
   "source": [
    "## Fraction representation"
   ]
  },
  {
   "cell_type": "code",
   "execution_count": 54,
   "id": "7f273643",
   "metadata": {},
   "outputs": [
    {
     "ename": "",
     "evalue": "",
     "output_type": "error",
     "traceback": [
      "<interactive>:3:12: error:\n    • No instance for (Integral Double) arising from a use of ‘floor’\n    • In the second argument of ‘(-)’, namely ‘floor a’\n      In the first argument of ‘(==)’, namely ‘(a - floor a)’\n      In the expression: (a - floor a) == 0"
     ]
    }
   ],
   "source": [
    "decimalSeq :: Double -> Int\n",
    "decimalSeq a\n",
    "    | (a - floor a) == 0 = floor a\n",
    "    | otherwise = decimalSeq (10 * a)"
   ]
  },
  {
   "cell_type": "code",
   "execution_count": 61,
   "id": "5b9fb827",
   "metadata": {},
   "outputs": [],
   "source": [
    "decimalSeq :: Double -> Int\n",
    "decimalSeq a\n",
    "    | (a - fromIntegral (floor a)) == 0 = floor a\n",
    "    | otherwise = decimalSeq (10 * a)"
   ]
  },
  {
   "cell_type": "code",
   "execution_count": 62,
   "id": "fd28153c",
   "metadata": {},
   "outputs": [
    {
     "data": {
      "text/plain": [
       "33"
      ]
     },
     "metadata": {},
     "output_type": "display_data"
    }
   ],
   "source": [
    "decimalSeq 3.3"
   ]
  },
  {
   "cell_type": "code",
   "execution_count": 64,
   "id": "62354b16",
   "metadata": {},
   "outputs": [],
   "source": [
    "decimalPlaces :: Double -> Int\n",
    "decimalPlaces x\n",
    "  | (x - fromIntegral (floor x)) == 0 = 0\n",
    "  | otherwise = 1 + decimalPlaces (10 * x)"
   ]
  },
  {
   "cell_type": "code",
   "execution_count": 76,
   "id": "246ffe13",
   "metadata": {},
   "outputs": [],
   "source": [
    "addPairs :: (Int, Int) -> (Int, Int) -> (Int, Int)\n",
    "addPairs (x1,y1) (x2,y2) = (x1+x2, y1+y2)"
   ]
  },
  {
   "cell_type": "code",
   "execution_count": 78,
   "id": "979b6e94",
   "metadata": {},
   "outputs": [
    {
     "data": {
      "text/plain": [
       "(4,6)"
      ]
     },
     "metadata": {},
     "output_type": "display_data"
    }
   ],
   "source": [
    "addPairs (1,2) (3,4)"
   ]
  },
  {
   "cell_type": "code",
   "execution_count": 81,
   "id": "7e864bc9",
   "metadata": {},
   "outputs": [],
   "source": [
    "decimalFactor :: Double -> (Int, Int)\n",
    "decimalFactor x\n",
    "    | (x - fromIntegral (floor x)) == 0 = (floor x, 0)\n",
    "    | otherwise = addPairs (0, 1) (decimalFactor (10 * x))"
   ]
  },
  {
   "cell_type": "code",
   "execution_count": 82,
   "id": "4f370caf",
   "metadata": {},
   "outputs": [
    {
     "data": {
      "text/plain": [
       "(314,2)"
      ]
     },
     "metadata": {},
     "output_type": "display_data"
    }
   ],
   "source": [
    "decimalFactor 3.14"
   ]
  },
  {
   "cell_type": "code",
   "execution_count": 89,
   "id": "50a3b653",
   "metadata": {},
   "outputs": [],
   "source": [
    "multiplyPairs :: (Int, Int) -> (Int, Int) -> (Int, Int)\n",
    "multiplyPairs (x1, x2) (y1, y2) = (x1 * y1, x2 * y2)"
   ]
  },
  {
   "cell_type": "code",
   "execution_count": 90,
   "id": "581afa00",
   "metadata": {},
   "outputs": [],
   "source": [
    "decimalRep :: Double -> (Int, Int)\n",
    "decimalRep x \n",
    "    | (x - fromIntegral (floor x)) == 0 = (floor x, 1)\n",
    "    | otherwise = multiplyPairs (1,10) (decimalRep (10 * x))"
   ]
  },
  {
   "cell_type": "code",
   "execution_count": 91,
   "id": "e4952e98",
   "metadata": {},
   "outputs": [
    {
     "data": {
      "text/plain": [
       "(3,10)"
      ]
     },
     "metadata": {},
     "output_type": "display_data"
    }
   ],
   "source": [
    "decimalRep 0.3"
   ]
  },
  {
   "cell_type": "code",
   "execution_count": 92,
   "id": "09df0203",
   "metadata": {},
   "outputs": [
    {
     "data": {
      "text/plain": [
       "(314,100)"
      ]
     },
     "metadata": {},
     "output_type": "display_data"
    }
   ],
   "source": [
    "decimalRep 3.14"
   ]
  },
  {
   "cell_type": "code",
   "execution_count": 98,
   "id": "367e14e0",
   "metadata": {},
   "outputs": [
    {
     "data": {
      "text/html": [
       "<style>/* Styles used for the Hoogle display in the pager */\n",
       ".hoogle-doc {\n",
       "display: block;\n",
       "padding-bottom: 1.3em;\n",
       "padding-left: 0.4em;\n",
       "}\n",
       ".hoogle-code {\n",
       "display: block;\n",
       "font-family: monospace;\n",
       "white-space: pre;\n",
       "}\n",
       ".hoogle-text {\n",
       "display: block;\n",
       "}\n",
       ".hoogle-name {\n",
       "color: green;\n",
       "font-weight: bold;\n",
       "}\n",
       ".hoogle-head {\n",
       "font-weight: bold;\n",
       "}\n",
       ".hoogle-sub {\n",
       "display: block;\n",
       "margin-left: 0.4em;\n",
       "}\n",
       ".hoogle-package {\n",
       "font-weight: bold;\n",
       "font-style: italic;\n",
       "}\n",
       ".hoogle-module {\n",
       "font-weight: bold;\n",
       "}\n",
       ".hoogle-class {\n",
       "font-weight: bold;\n",
       "}\n",
       ".get-type {\n",
       "color: green;\n",
       "font-weight: bold;\n",
       "font-family: monospace;\n",
       "display: block;\n",
       "white-space: pre-wrap;\n",
       "}\n",
       ".show-type {\n",
       "color: green;\n",
       "font-weight: bold;\n",
       "font-family: monospace;\n",
       "margin-left: 1em;\n",
       "}\n",
       ".mono {\n",
       "font-family: monospace;\n",
       "display: block;\n",
       "}\n",
       ".err-msg {\n",
       "color: red;\n",
       "font-style: italic;\n",
       "font-family: monospace;\n",
       "white-space: pre;\n",
       "display: block;\n",
       "}\n",
       "#unshowable {\n",
       "color: red;\n",
       "font-weight: bold;\n",
       "}\n",
       ".err-msg.in.collapse {\n",
       "padding-top: 0.7em;\n",
       "}\n",
       ".highlight-code {\n",
       "white-space: pre;\n",
       "font-family: monospace;\n",
       "}\n",
       ".suggestion-warning { \n",
       "font-weight: bold;\n",
       "color: rgb(200, 130, 0);\n",
       "}\n",
       ".suggestion-error { \n",
       "font-weight: bold;\n",
       "color: red;\n",
       "}\n",
       ".suggestion-name {\n",
       "font-weight: bold;\n",
       "}\n",
       "</style><div class=\"suggestion-name\" style=\"clear:both;\">Redundant uncurry</div><div class=\"suggestion-row\" style=\"float: left;\"><div class=\"suggestion-warning\">Found:</div><div class=\"highlight-code\" id=\"haskell\">uncurry gcd (314, 100)</div></div><div class=\"suggestion-row\" style=\"float: left;\"><div class=\"suggestion-warning\">Why Not:</div><div class=\"highlight-code\" id=\"haskell\">gcd 314 100</div></div>"
      ],
      "text/plain": [
       "Line 1: Redundant uncurry\n",
       "Found:\n",
       "uncurry gcd (314, 100)\n",
       "Why not:\n",
       "gcd 314 100"
      ]
     },
     "metadata": {},
     "output_type": "display_data"
    },
    {
     "data": {
      "text/plain": [
       "2"
      ]
     },
     "metadata": {},
     "output_type": "display_data"
    },
    {
     "data": {
      "text/plain": []
     },
     "metadata": {},
     "output_type": "display_data"
    }
   ],
   "source": [
    "uncurry gcd (314, 100)"
   ]
  },
  {
   "cell_type": "code",
   "execution_count": 101,
   "id": "f84a823e",
   "metadata": {},
   "outputs": [],
   "source": [
    "divideByGcd :: (Int, Int) -> (Int, Int)\n",
    "divideByGcd (x,y) = let d = gcd x y in (x `div` d, y `div` d)"
   ]
  },
  {
   "cell_type": "code",
   "execution_count": 102,
   "id": "9e48f689",
   "metadata": {},
   "outputs": [],
   "source": [
    "quotientRep :: Double -> (Int, Int)\n",
    "quotientRep x = divideByGcd (decimalRep x)"
   ]
  },
  {
   "cell_type": "code",
   "execution_count": 103,
   "id": "8e3af9e0",
   "metadata": {},
   "outputs": [
    {
     "data": {
      "text/plain": [
       "(157,50)"
      ]
     },
     "metadata": {},
     "output_type": "display_data"
    }
   ],
   "source": [
    "quotientRep 3.14"
   ]
  },
  {
   "cell_type": "code",
   "execution_count": 106,
   "id": "30d9913b",
   "metadata": {},
   "outputs": [
    {
     "data": {
      "text/plain": [
       "(5550000000000001,5000000000000000)"
      ]
     },
     "metadata": {},
     "output_type": "display_data"
    }
   ],
   "source": [
    "quotientRep 1.11"
   ]
  },
  {
   "cell_type": "code",
   "execution_count": 107,
   "id": "f7422649",
   "metadata": {},
   "outputs": [
    {
     "data": {
      "text/plain": [
       "(11399999999999998,10000000000000000)"
      ]
     },
     "metadata": {},
     "output_type": "display_data"
    }
   ],
   "source": [
    "decimalRep 1.14"
   ]
  },
  {
   "cell_type": "code",
   "execution_count": 108,
   "id": "6be1abd9",
   "metadata": {},
   "outputs": [
    {
     "data": {
      "text/plain": [
       "(104,10)"
      ]
     },
     "metadata": {},
     "output_type": "display_data"
    }
   ],
   "source": [
    "decimalRep 10.4"
   ]
  },
  {
   "cell_type": "code",
   "execution_count": 109,
   "id": "b92b4d3c",
   "metadata": {},
   "outputs": [
    {
     "data": {
      "text/plain": [
       "(114,10)"
      ]
     },
     "metadata": {},
     "output_type": "display_data"
    }
   ],
   "source": [
    "decimalRep 11.4"
   ]
  },
  {
   "cell_type": "code",
   "execution_count": 110,
   "id": "dc44528b",
   "metadata": {},
   "outputs": [
    {
     "data": {
      "text/plain": [
       "(11399999999999998,10000000000000000)"
      ]
     },
     "metadata": {},
     "output_type": "display_data"
    }
   ],
   "source": [
    "decimalRep 1.14"
   ]
  },
  {
   "cell_type": "code",
   "execution_count": 111,
   "id": "d84d59db",
   "metadata": {},
   "outputs": [
    {
     "data": {
      "text/plain": [
       "(21400000000000004,10000000000000000)"
      ]
     },
     "metadata": {},
     "output_type": "display_data"
    }
   ],
   "source": [
    "decimalRep 2.14"
   ]
  },
  {
   "cell_type": "code",
   "execution_count": 112,
   "id": "19249590",
   "metadata": {},
   "outputs": [
    {
     "data": {
      "text/plain": [
       "(914,100)"
      ]
     },
     "metadata": {},
     "output_type": "display_data"
    }
   ],
   "source": [
    "decimalRep 9.14"
   ]
  },
  {
   "cell_type": "code",
   "execution_count": null,
   "id": "b4312b1c",
   "metadata": {},
   "outputs": [],
   "source": [
    "114 / 100"
   ]
  },
  {
   "cell_type": "code",
   "execution_count": 113,
   "id": "5ec43229",
   "metadata": {
    "scrolled": true
   },
   "outputs": [
    {
     "data": {
      "text/plain": [
       "(314,1000)"
      ]
     },
     "metadata": {},
     "output_type": "display_data"
    }
   ],
   "source": [
    "decimalRep 0.314"
   ]
  },
  {
   "cell_type": "code",
   "execution_count": 116,
   "id": "884baaa2",
   "metadata": {},
   "outputs": [
    {
     "data": {
      "text/plain": [
       "(6283,20000)"
      ]
     },
     "metadata": {},
     "output_type": "display_data"
    }
   ],
   "source": [
    "quotientRep 0.31415"
   ]
  },
  {
   "cell_type": "code",
   "execution_count": null,
   "id": "989eac20",
   "metadata": {},
   "outputs": [
    {
     "data": {
      "text/plain": [
       "(11111111,10000000)"
      ]
     },
     "metadata": {},
     "output_type": "display_data"
    }
   ],
   "source": [
    "quotientRep 1.1111111"
   ]
  },
  {
   "cell_type": "code",
   "execution_count": 99,
   "id": "46455cef",
   "metadata": {},
   "outputs": [
    {
     "ename": "",
     "evalue": "",
     "output_type": "error",
     "traceback": [
      "<interactive>:1:1: error:\n    • No instance for (Show ((Integer, Integer) -> (Integer, Integer))) arising from a use of ‘print’\n        (maybe you haven't applied a function to enough arguments?)\n    • In a stmt of an interactive GHCi command: print it"
     ]
    }
   ],
   "source": [
    "gcd (314, 100)"
   ]
  },
  {
   "cell_type": "code",
   "execution_count": 95,
   "id": "1042235e",
   "metadata": {},
   "outputs": [
    {
     "data": {
      "text/html": [
       "<style>/* Styles used for the Hoogle display in the pager */\n",
       ".hoogle-doc {\n",
       "display: block;\n",
       "padding-bottom: 1.3em;\n",
       "padding-left: 0.4em;\n",
       "}\n",
       ".hoogle-code {\n",
       "display: block;\n",
       "font-family: monospace;\n",
       "white-space: pre;\n",
       "}\n",
       ".hoogle-text {\n",
       "display: block;\n",
       "}\n",
       ".hoogle-name {\n",
       "color: green;\n",
       "font-weight: bold;\n",
       "}\n",
       ".hoogle-head {\n",
       "font-weight: bold;\n",
       "}\n",
       ".hoogle-sub {\n",
       "display: block;\n",
       "margin-left: 0.4em;\n",
       "}\n",
       ".hoogle-package {\n",
       "font-weight: bold;\n",
       "font-style: italic;\n",
       "}\n",
       ".hoogle-module {\n",
       "font-weight: bold;\n",
       "}\n",
       ".hoogle-class {\n",
       "font-weight: bold;\n",
       "}\n",
       ".get-type {\n",
       "color: green;\n",
       "font-weight: bold;\n",
       "font-family: monospace;\n",
       "display: block;\n",
       "white-space: pre-wrap;\n",
       "}\n",
       ".show-type {\n",
       "color: green;\n",
       "font-weight: bold;\n",
       "font-family: monospace;\n",
       "margin-left: 1em;\n",
       "}\n",
       ".mono {\n",
       "font-family: monospace;\n",
       "display: block;\n",
       "}\n",
       ".err-msg {\n",
       "color: red;\n",
       "font-style: italic;\n",
       "font-family: monospace;\n",
       "white-space: pre;\n",
       "display: block;\n",
       "}\n",
       "#unshowable {\n",
       "color: red;\n",
       "font-weight: bold;\n",
       "}\n",
       ".err-msg.in.collapse {\n",
       "padding-top: 0.7em;\n",
       "}\n",
       ".highlight-code {\n",
       "white-space: pre;\n",
       "font-family: monospace;\n",
       "}\n",
       ".suggestion-warning { \n",
       "font-weight: bold;\n",
       "color: rgb(200, 130, 0);\n",
       "}\n",
       ".suggestion-error { \n",
       "font-weight: bold;\n",
       "color: red;\n",
       "}\n",
       ".suggestion-name {\n",
       "font-weight: bold;\n",
       "}\n",
       "</style><div class=\"suggestion-name\" style=\"clear:both;\">Redundant uncurry</div><div class=\"suggestion-row\" style=\"float: left;\"><div class=\"suggestion-warning\">Found:</div><div class=\"highlight-code\" id=\"haskell\">uncurry (+) (3, 5)</div></div><div class=\"suggestion-row\" style=\"float: left;\"><div class=\"suggestion-warning\">Why Not:</div><div class=\"highlight-code\" id=\"haskell\">(+) 3 5</div></div>"
      ],
      "text/plain": [
       "Line 1: Redundant uncurry\n",
       "Found:\n",
       "uncurry (+) (3, 5)\n",
       "Why not:\n",
       "(+) 3 5"
      ]
     },
     "metadata": {},
     "output_type": "display_data"
    },
    {
     "data": {
      "text/plain": [
       "8"
      ]
     },
     "metadata": {},
     "output_type": "display_data"
    }
   ],
   "source": [
    "uncurry (+) (3,5 )"
   ]
  },
  {
   "cell_type": "code",
   "execution_count": 97,
   "id": "5faea12c",
   "metadata": {},
   "outputs": [
    {
     "ename": "",
     "evalue": "",
     "output_type": "error",
     "traceback": [
      "<interactive>:1:1: error:\n    • No instance for (Show ((Integer, Integer) -> (Integer, Integer))) arising from a use of ‘print’\n        (maybe you haven't applied a function to enough arguments?)\n    • In a stmt of an interactive GHCi command: print it"
     ]
    }
   ],
   "source": [
    "(+) (3,5)"
   ]
  },
  {
   "cell_type": "code",
   "execution_count": 67,
   "id": "ab8cbe47",
   "metadata": {},
   "outputs": [
    {
     "ename": "",
     "evalue": "",
     "output_type": "error",
     "traceback": [
      "<interactive>:1:1: error:\n    • No instance for (Num (Integer, Integer)) arising from a use of ‘it’\n    • In the first argument of ‘print’, namely ‘it’\n      In a stmt of an interactive GHCi command: print it"
     ]
    }
   ],
   "source": [
    "(1,3) + (2,5)"
   ]
  },
  {
   "cell_type": "code",
   "execution_count": 65,
   "id": "9fc2dbe8",
   "metadata": {},
   "outputs": [
    {
     "data": {
      "text/plain": [
       "1"
      ]
     },
     "metadata": {},
     "output_type": "display_data"
    }
   ],
   "source": [
    "decimalPlaces 3.3"
   ]
  },
  {
   "cell_type": "code",
   "execution_count": 63,
   "id": "21fe346b",
   "metadata": {},
   "outputs": [
    {
     "data": {
      "text/plain": [
       "314"
      ]
     },
     "metadata": {},
     "output_type": "display_data"
    }
   ],
   "source": [
    "decimalSeq 3.14"
   ]
  },
  {
   "cell_type": "code",
   "execution_count": 50,
   "id": "2fbc9ab7",
   "metadata": {},
   "outputs": [
    {
     "data": {
      "text/plain": [
       "1"
      ]
     },
     "metadata": {},
     "output_type": "display_data"
    }
   ],
   "source": [
    "1 - floor 0.1"
   ]
  },
  {
   "cell_type": "code",
   "execution_count": 56,
   "id": "3e5bd923",
   "metadata": {},
   "outputs": [
    {
     "data": {
      "text/plain": [
       "False"
      ]
     },
     "metadata": {},
     "output_type": "display_data"
    }
   ],
   "source": [
    "(1 - floor 0.1) == 0"
   ]
  },
  {
   "cell_type": "code",
   "execution_count": 52,
   "id": "77f00891",
   "metadata": {},
   "outputs": [
    {
     "ename": "",
     "evalue": "",
     "output_type": "error",
     "traceback": [
      "<interactive>:1:1: error:\n    • No instance for (Show (Double -> Integer)) arising from a use of ‘print’\n        (maybe you haven't applied a function to enough arguments?)\n    • In a stmt of an interactive GHCi command: print it"
     ]
    }
   ],
   "source": [
    "floor"
   ]
  },
  {
   "cell_type": "code",
   "execution_count": 53,
   "id": "45d3cf89",
   "metadata": {},
   "outputs": [
    {
     "data": {
      "text/plain": [
       "0"
      ]
     },
     "metadata": {},
     "output_type": "display_data"
    }
   ],
   "source": [
    "floor 0"
   ]
  },
  {
   "cell_type": "code",
   "execution_count": 58,
   "id": "fd6f04c5",
   "metadata": {},
   "outputs": [],
   "source": [
    "decimalSeq2 :: Double -> Int\n",
    "decimalSeq2 a\n",
    "    | abs (a - fromIntegral (floor a)) < 0.00001 = floor a\n",
    "    | otherwise = decimalSeq2 (10 * a)\n"
   ]
  },
  {
   "cell_type": "code",
   "execution_count": 59,
   "id": "c651d12e",
   "metadata": {},
   "outputs": [
    {
     "data": {
      "text/plain": [
       "1"
      ]
     },
     "metadata": {},
     "output_type": "display_data"
    }
   ],
   "source": [
    "floor 1.9"
   ]
  },
  {
   "cell_type": "code",
   "execution_count": 60,
   "id": "06f6ed3c",
   "metadata": {},
   "outputs": [
    {
     "data": {
      "text/plain": [
       "1"
      ]
     },
     "metadata": {},
     "output_type": "display_data"
    }
   ],
   "source": [
    "floor 1.9999999999"
   ]
  },
  {
   "cell_type": "code",
   "execution_count": null,
   "id": "1d758455",
   "metadata": {},
   "outputs": [],
   "source": []
  }
 ],
 "metadata": {
  "kernelspec": {
   "display_name": "Haskell",
   "language": "haskell",
   "name": "haskell"
  },
  "language_info": {
   "codemirror_mode": "ihaskell",
   "file_extension": ".hs",
   "mimetype": "text/x-haskell",
   "name": "haskell",
   "pygments_lexer": "Haskell",
   "version": "9.2.7"
  }
 },
 "nbformat": 4,
 "nbformat_minor": 5
}
