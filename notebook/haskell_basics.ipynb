{
 "cells": [
  {
   "cell_type": "markdown",
   "id": "dfa1c635",
   "metadata": {},
   "source": [
    "## Guard and bool"
   ]
  },
  {
   "cell_type": "code",
   "execution_count": 1,
   "id": "87a54c73",
   "metadata": {},
   "outputs": [
    {
     "data": {
      "text/plain": [
       "True"
      ]
     },
     "metadata": {},
     "output_type": "display_data"
    }
   ],
   "source": [
    "3 > 0"
   ]
  },
  {
   "cell_type": "code",
   "execution_count": 2,
   "id": "45144df1",
   "metadata": {},
   "outputs": [
    {
     "data": {
      "text/plain": [
       "1"
      ]
     },
     "metadata": {},
     "output_type": "display_data"
    }
   ],
   "source": [
    "posCheck :: Int->Int\n",
    "posCheck num\n",
    "    | num > 0 = 1\n",
    "    | otherwise = -1\n",
    "    \n",
    "posCheck 3"
   ]
  },
  {
   "cell_type": "code",
   "execution_count": 3,
   "id": "38d1dba7",
   "metadata": {},
   "outputs": [
    {
     "ename": "",
     "evalue": "",
     "output_type": "error",
     "traceback": [
      "<interactive>:1:10: error:\n    • No instance for (Num (Int -> Int)) arising from a use of ‘-’\n        (maybe you haven't applied a function to enough arguments?)\n    • In the expression: posCheck - 1\n      In an equation for ‘it’: it = posCheck - 1"
     ]
    }
   ],
   "source": [
    "posCheck -1"
   ]
  },
  {
   "cell_type": "code",
   "execution_count": 4,
   "id": "68e10d6c",
   "metadata": {},
   "outputs": [
    {
     "data": {
      "text/plain": [
       "-1"
      ]
     },
     "metadata": {},
     "output_type": "display_data"
    }
   ],
   "source": [
    "posCheck (-1)"
   ]
  },
  {
   "cell_type": "code",
   "execution_count": 5,
   "id": "b1ca0cda",
   "metadata": {},
   "outputs": [
    {
     "ename": "",
     "evalue": "",
     "output_type": "error",
     "traceback": [
      "<interactive>:1:10: error:\n    • No instance for (Fractional Int) arising from the literal ‘1.1’\n    • In the first argument of ‘posCheck’, namely ‘1.1’\n      In the expression: posCheck 1.1\n      In an equation for ‘it’: it = posCheck 1.1"
     ]
    }
   ],
   "source": [
    "posCheck 1.1"
   ]
  },
  {
   "cell_type": "markdown",
   "id": "10d1ab03",
   "metadata": {},
   "source": [
    "### not equal operator"
   ]
  },
  {
   "cell_type": "code",
   "execution_count": 6,
   "id": "165a9870",
   "metadata": {},
   "outputs": [
    {
     "data": {
      "text/plain": [
       "True"
      ]
     },
     "metadata": {},
     "output_type": "display_data"
    }
   ],
   "source": [
    "1 /= 0"
   ]
  },
  {
   "cell_type": "code",
   "execution_count": 7,
   "id": "9ff8065d",
   "metadata": {},
   "outputs": [
    {
     "data": {
      "text/plain": [
       "False"
      ]
     },
     "metadata": {},
     "output_type": "display_data"
    }
   ],
   "source": [
    "1 /= 1.0"
   ]
  },
  {
   "cell_type": "code",
   "execution_count": 8,
   "id": "c3546f52",
   "metadata": {},
   "outputs": [
    {
     "data": {
      "text/plain": [
       "True"
      ]
     },
     "metadata": {},
     "output_type": "display_data"
    }
   ],
   "source": [
    "1 == 1.0"
   ]
  },
  {
   "cell_type": "markdown",
   "id": "e8d55a33",
   "metadata": {},
   "source": [
    "## Modulus"
   ]
  },
  {
   "cell_type": "code",
   "execution_count": 9,
   "id": "12ec5a37",
   "metadata": {},
   "outputs": [
    {
     "data": {
      "text/plain": [
       "1"
      ]
     },
     "metadata": {},
     "output_type": "display_data"
    }
   ],
   "source": [
    "mod 1 3"
   ]
  },
  {
   "cell_type": "code",
   "execution_count": 10,
   "id": "848bd772",
   "metadata": {},
   "outputs": [
    {
     "data": {
      "text/plain": [
       "2"
      ]
     },
     "metadata": {},
     "output_type": "display_data"
    }
   ],
   "source": [
    "mod 2 3"
   ]
  },
  {
   "cell_type": "code",
   "execution_count": 11,
   "id": "3ff7a791",
   "metadata": {},
   "outputs": [
    {
     "data": {
      "text/plain": [
       "0"
      ]
     },
     "metadata": {},
     "output_type": "display_data"
    }
   ],
   "source": [
    "mod 3 3"
   ]
  },
  {
   "cell_type": "code",
   "execution_count": 12,
   "id": "263d970a",
   "metadata": {},
   "outputs": [
    {
     "data": {
      "text/plain": [
       "1"
      ]
     },
     "metadata": {},
     "output_type": "display_data"
    }
   ],
   "source": [
    "mod 4 3"
   ]
  },
  {
   "cell_type": "code",
   "execution_count": 13,
   "id": "ee6db5b2",
   "metadata": {},
   "outputs": [
    {
     "data": {
      "text/plain": [
       "0"
      ]
     },
     "metadata": {},
     "output_type": "display_data"
    }
   ],
   "source": [
    "4 `mod` 4"
   ]
  },
  {
   "cell_type": "code",
   "execution_count": 14,
   "id": "9035832f",
   "metadata": {},
   "outputs": [
    {
     "data": {
      "text/plain": [
       "0"
      ]
     },
     "metadata": {},
     "output_type": "display_data"
    }
   ],
   "source": [
    "4 `mod` 1"
   ]
  },
  {
   "cell_type": "code",
   "execution_count": 15,
   "id": "edf2df71",
   "metadata": {},
   "outputs": [
    {
     "data": {
      "text/plain": [
       "0"
      ]
     },
     "metadata": {},
     "output_type": "display_data"
    }
   ],
   "source": [
    "3 `mod` 1"
   ]
  },
  {
   "cell_type": "markdown",
   "id": "36501523",
   "metadata": {},
   "source": [
    "trying to divide floating point gives an error."
   ]
  },
  {
   "cell_type": "code",
   "execution_count": 18,
   "id": "27053546",
   "metadata": {},
   "outputs": [
    {
     "ename": "",
     "evalue": "",
     "output_type": "error",
     "traceback": [
      "<interactive>:1:1: error:\n    • Ambiguous type variable ‘a0’ arising from a use of ‘print’\n      prevents the constraint ‘(Show a0)’ from being solved.\n      Probable fix: use a type annotation to specify what ‘a0’ should be.\n      These potential instances exist:\n        instance Show IHaskellSysIO.HandlePosn -- Defined in ‘Handle’\n        instance Show IHaskellSysIO.BufferMode -- Defined in ‘Handle.Types’\n        instance Show IHaskellSysIO.Handle -- Defined in ‘Handle.Types’\n        ...plus 76 others\n        ...plus 54 instances involving out-of-scope types\n        (use -fprint-potential-instances to see them all)\n    • In a stmt of an interactive GHCi command: print it"
     ]
    }
   ],
   "source": [
    "1.3 `mod` 1"
   ]
  },
  {
   "cell_type": "code",
   "execution_count": 20,
   "id": "d913bd8e",
   "metadata": {},
   "outputs": [
    {
     "ename": "",
     "evalue": "",
     "output_type": "error",
     "traceback": [
      "<interactive>:1:1: error:\n    • Ambiguous type variable ‘a0’ arising from a use of ‘print’\n      prevents the constraint ‘(Show a0)’ from being solved.\n      Probable fix: use a type annotation to specify what ‘a0’ should be.\n      These potential instances exist:\n        instance Show IHaskellSysIO.HandlePosn -- Defined in ‘Handle’\n        instance Show IHaskellSysIO.BufferMode -- Defined in ‘Handle.Types’\n        instance Show IHaskellSysIO.Handle -- Defined in ‘Handle.Types’\n        ...plus 76 others\n        ...plus 54 instances involving out-of-scope types\n        (use -fprint-potential-instances to see them all)\n    • In a stmt of an interactive GHCi command: print it"
     ]
    }
   ],
   "source": [
    "mod 1.1 1"
   ]
  },
  {
   "cell_type": "markdown",
   "id": "2caa16c7",
   "metadata": {},
   "source": [
    "## Recursion"
   ]
  },
  {
   "cell_type": "markdown",
   "id": "df8b5e6f",
   "metadata": {},
   "source": [
    "### GCD implementation "
   ]
  },
  {
   "cell_type": "code",
   "execution_count": 23,
   "id": "36ab5d18",
   "metadata": {},
   "outputs": [],
   "source": [
    "myGCD :: Int -> Int -> Int\n",
    "myGCD x y\n",
    "    | y == 0 = x\n",
    "    | otherwise = myGCD y (x `mod` y)"
   ]
  },
  {
   "cell_type": "code",
   "execution_count": 24,
   "id": "f7c3c79d",
   "metadata": {},
   "outputs": [
    {
     "data": {
      "text/plain": [
       "1"
      ]
     },
     "metadata": {},
     "output_type": "display_data"
    }
   ],
   "source": [
    "myGCD 1 0"
   ]
  },
  {
   "cell_type": "code",
   "execution_count": 25,
   "id": "95eec642",
   "metadata": {},
   "outputs": [
    {
     "data": {
      "text/plain": [
       "6"
      ]
     },
     "metadata": {},
     "output_type": "display_data"
    }
   ],
   "source": [
    "myGCD 48 18"
   ]
  },
  {
   "cell_type": "markdown",
   "id": "fee0ea23",
   "metadata": {},
   "source": [
    "## Function composition"
   ]
  },
  {
   "cell_type": "code",
   "execution_count": 26,
   "id": "9650aa30",
   "metadata": {},
   "outputs": [],
   "source": [
    "f :: Int -> Int\n",
    "f x = x + 1\n",
    "\n",
    "g :: Int -> Int\n",
    "g x = x - 1"
   ]
  },
  {
   "cell_type": "code",
   "execution_count": 30,
   "id": "8213456c",
   "metadata": {},
   "outputs": [
    {
     "ename": "",
     "evalue": "",
     "output_type": "error",
     "traceback": [
      "<interactive>:1:3: error:\n    • Couldn't match expected type ‘a -> Int’ with actual type ‘Int’\n    • Possible cause: ‘g’ is applied to too many arguments\n      In the second argument of ‘(.)’, namely ‘g 1’\n      In the expression: f . g 1\n      In an equation for ‘it’: it = f . g 1\n    • Relevant bindings include it :: a -> Int (bound at <interactive>:1:1)"
     ]
    }
   ],
   "source": [
    "f.g 1"
   ]
  },
  {
   "cell_type": "code",
   "execution_count": 28,
   "id": "b00770fb",
   "metadata": {},
   "outputs": [
    {
     "data": {
      "text/plain": [
       "1"
      ]
     },
     "metadata": {},
     "output_type": "display_data"
    }
   ],
   "source": [
    "(f.g) 1"
   ]
  },
  {
   "cell_type": "code",
   "execution_count": 29,
   "id": "5aba8d2d",
   "metadata": {},
   "outputs": [
    {
     "ename": "",
     "evalue": "",
     "output_type": "error",
     "traceback": [
      "<interactive>:1:3: error:\n    • Couldn't match expected type ‘Int’ with actual type ‘Int -> Int’\n    • Probable cause: ‘g’ is applied to too few arguments\n      In the first argument of ‘f’, namely ‘g’\n      In the expression: f g 1\n      In an equation for ‘it’: it = f g 1\n<interactive>:1:1: error:\n    • Couldn't match expected type ‘t0 -> t’ with actual type ‘Int’\n    • The function ‘f’ is applied to two value arguments, but its type ‘Int -> Int’ has only one\n      In the expression: f g 1\n      In an equation for ‘it’: it = f g 1\n    • Relevant bindings include it :: t (bound at <interactive>:1:1)"
     ]
    }
   ],
   "source": [
    "f g 1"
   ]
  },
  {
   "cell_type": "code",
   "execution_count": 31,
   "id": "458e4f2a",
   "metadata": {},
   "outputs": [
    {
     "data": {
      "text/plain": [
       "1"
      ]
     },
     "metadata": {},
     "output_type": "display_data"
    }
   ],
   "source": [
    "f (g 1)"
   ]
  },
  {
   "cell_type": "markdown",
   "id": "8660e3ee",
   "metadata": {},
   "source": [
    "## Mathematical literal"
   ]
  },
  {
   "cell_type": "code",
   "execution_count": 32,
   "id": "afee5254",
   "metadata": {},
   "outputs": [
    {
     "data": {
      "text/plain": [
       "1000.0"
      ]
     },
     "metadata": {},
     "output_type": "display_data"
    }
   ],
   "source": [
    "1e3"
   ]
  },
  {
   "cell_type": "code",
   "execution_count": 33,
   "id": "1633bf4f",
   "metadata": {},
   "outputs": [
    {
     "data": {
      "text/plain": [
       "1.0e-3"
      ]
     },
     "metadata": {},
     "output_type": "display_data"
    }
   ],
   "source": [
    "1e-3"
   ]
  },
  {
   "cell_type": "markdown",
   "id": "29debba8",
   "metadata": {},
   "source": [
    "## Exponentiation"
   ]
  },
  {
   "cell_type": "code",
   "execution_count": 37,
   "id": "afe0d5e5",
   "metadata": {},
   "outputs": [
    {
     "data": {
      "text/plain": [
       "8"
      ]
     },
     "metadata": {},
     "output_type": "display_data"
    }
   ],
   "source": [
    "2 ^ 3"
   ]
  },
  {
   "cell_type": "code",
   "execution_count": 38,
   "id": "ca71b96d",
   "metadata": {},
   "outputs": [
    {
     "ename": "",
     "evalue": "",
     "output_type": "error",
     "traceback": [
      "<interactive>:1:1: error: Precedence parsing error cannot mix ‘^’ [infixr 8] and prefix `-' [infixl 6] in the same infix expression"
     ]
    }
   ],
   "source": [
    "2 ^ -3"
   ]
  },
  {
   "cell_type": "code",
   "execution_count": 39,
   "id": "ca9e51a6",
   "metadata": {},
   "outputs": [
    {
     "ename": "",
     "evalue": "",
     "output_type": "error",
     "traceback": [
      "Negative exponent"
     ]
    }
   ],
   "source": [
    "2 ^ (-3)"
   ]
  },
  {
   "cell_type": "code",
   "execution_count": 40,
   "id": "5ae7bf8a",
   "metadata": {},
   "outputs": [
    {
     "data": {
      "text/plain": [
       "0.125"
      ]
     },
     "metadata": {},
     "output_type": "display_data"
    }
   ],
   "source": [
    "2 ^^ (-3)"
   ]
  },
  {
   "cell_type": "code",
   "execution_count": 44,
   "id": "9454fb53",
   "metadata": {},
   "outputs": [
    {
     "data": {
      "text/html": [
       "<style>/* Styles used for the Hoogle display in the pager */\n",
       ".hoogle-doc {\n",
       "display: block;\n",
       "padding-bottom: 1.3em;\n",
       "padding-left: 0.4em;\n",
       "}\n",
       ".hoogle-code {\n",
       "display: block;\n",
       "font-family: monospace;\n",
       "white-space: pre;\n",
       "}\n",
       ".hoogle-text {\n",
       "display: block;\n",
       "}\n",
       ".hoogle-name {\n",
       "color: green;\n",
       "font-weight: bold;\n",
       "}\n",
       ".hoogle-head {\n",
       "font-weight: bold;\n",
       "}\n",
       ".hoogle-sub {\n",
       "display: block;\n",
       "margin-left: 0.4em;\n",
       "}\n",
       ".hoogle-package {\n",
       "font-weight: bold;\n",
       "font-style: italic;\n",
       "}\n",
       ".hoogle-module {\n",
       "font-weight: bold;\n",
       "}\n",
       ".hoogle-class {\n",
       "font-weight: bold;\n",
       "}\n",
       ".get-type {\n",
       "color: green;\n",
       "font-weight: bold;\n",
       "font-family: monospace;\n",
       "display: block;\n",
       "white-space: pre-wrap;\n",
       "}\n",
       ".show-type {\n",
       "color: green;\n",
       "font-weight: bold;\n",
       "font-family: monospace;\n",
       "margin-left: 1em;\n",
       "}\n",
       ".mono {\n",
       "font-family: monospace;\n",
       "display: block;\n",
       "}\n",
       ".err-msg {\n",
       "color: red;\n",
       "font-style: italic;\n",
       "font-family: monospace;\n",
       "white-space: pre;\n",
       "display: block;\n",
       "}\n",
       "#unshowable {\n",
       "color: red;\n",
       "font-weight: bold;\n",
       "}\n",
       ".err-msg.in.collapse {\n",
       "padding-top: 0.7em;\n",
       "}\n",
       ".highlight-code {\n",
       "white-space: pre;\n",
       "font-family: monospace;\n",
       "}\n",
       ".suggestion-warning { \n",
       "font-weight: bold;\n",
       "color: rgb(200, 130, 0);\n",
       "}\n",
       ".suggestion-error { \n",
       "font-weight: bold;\n",
       "color: red;\n",
       "}\n",
       ".suggestion-name {\n",
       "font-weight: bold;\n",
       "}\n",
       "</style><span class='get-type'>2 ^^ (-3) :: forall {a}. Fractional a => a</span>"
      ],
      "text/plain": [
       "2 ^^ (-3) :: forall {a}. Fractional a => a"
      ]
     },
     "metadata": {},
     "output_type": "display_data"
    }
   ],
   "source": [
    ":type 2 ^^ (-3)"
   ]
  },
  {
   "cell_type": "code",
   "execution_count": 46,
   "id": "4468db0f",
   "metadata": {},
   "outputs": [],
   "source": [
    "intExp :: Fractional a => Int -> Int -> a\n",
    "intExp m n = fromIntegral m ^^ n"
   ]
  },
  {
   "cell_type": "code",
   "execution_count": 48,
   "id": "95cc1d8f",
   "metadata": {},
   "outputs": [
    {
     "data": {
      "text/plain": [
       "81.0"
      ]
     },
     "metadata": {},
     "output_type": "display_data"
    }
   ],
   "source": [
    "intExp 3 4"
   ]
  },
  {
   "cell_type": "code",
   "execution_count": 51,
   "id": "0fe5321b",
   "metadata": {},
   "outputs": [
    {
     "data": {
      "text/plain": [
       "0.1111111111111111"
      ]
     },
     "metadata": {},
     "output_type": "display_data"
    }
   ],
   "source": [
    "intExp 3 (-2)"
   ]
  },
  {
   "cell_type": "code",
   "execution_count": 52,
   "id": "750265b1",
   "metadata": {},
   "outputs": [
    {
     "data": {
      "text/plain": [
       "0.25"
      ]
     },
     "metadata": {},
     "output_type": "display_data"
    }
   ],
   "source": [
    "intExp 2 (-2)"
   ]
  },
  {
   "cell_type": "markdown",
   "id": "08b0e23d",
   "metadata": {},
   "source": [
    "## Where clause"
   ]
  },
  {
   "cell_type": "code",
   "execution_count": 35,
   "id": "31f982a6",
   "metadata": {},
   "outputs": [],
   "source": [
    "func :: Int -> (Int, Int)\n",
    "func x = (p, q)\n",
    "    where\n",
    "        p = x * 10\n",
    "        q = p * 10"
   ]
  },
  {
   "cell_type": "code",
   "execution_count": 36,
   "id": "4ba71a79",
   "metadata": {},
   "outputs": [
    {
     "data": {
      "text/plain": [
       "(100,1000)"
      ]
     },
     "metadata": {},
     "output_type": "display_data"
    }
   ],
   "source": [
    "func 10"
   ]
  },
  {
   "cell_type": "markdown",
   "id": "72167c66",
   "metadata": {},
   "source": [
    "## Uncurry to operate on tuple"
   ]
  },
  {
   "cell_type": "code",
   "execution_count": null,
   "id": "7ea09569",
   "metadata": {},
   "outputs": [
    {
     "data": {
      "text/plain": [
       "10"
      ]
     },
     "metadata": {},
     "output_type": "display_data"
    }
   ],
   "source": [
    "-- function that takes 2 arguments\n",
    "f :: Int -> Int -> Int\n",
    "f x y = 2*x + y\n",
    "-- tuple argument\n",
    "let z = (3, 4)\n",
    "\n",
    "uncurry f z"
   ]
  },
  {
   "cell_type": "markdown",
   "id": "57d01c8f",
   "metadata": {},
   "source": [
    "## Partially-applied function"
   ]
  },
  {
   "cell_type": "code",
   "execution_count": null,
   "id": "1067cc7b",
   "metadata": {},
   "outputs": [
    {
     "data": {
      "text/plain": [
       "10"
      ]
     },
     "metadata": {},
     "output_type": "display_data"
    }
   ],
   "source": [
    "f :: Int -> Int -> Int\n",
    "f x y = 2*x + y\n",
    "\n",
    "let g = f 0\n",
    "g 10"
   ]
  },
  {
   "cell_type": "code",
   "execution_count": null,
   "id": "8f0de7b4",
   "metadata": {},
   "outputs": [],
   "source": []
  }
 ],
 "metadata": {
  "kernelspec": {
   "display_name": "Haskell",
   "language": "haskell",
   "name": "haskell"
  },
  "language_info": {
   "codemirror_mode": "ihaskell",
   "file_extension": ".hs",
   "mimetype": "text/x-haskell",
   "name": "haskell",
   "pygments_lexer": "Haskell",
   "version": "9.2.7"
  }
 },
 "nbformat": 4,
 "nbformat_minor": 5
}
