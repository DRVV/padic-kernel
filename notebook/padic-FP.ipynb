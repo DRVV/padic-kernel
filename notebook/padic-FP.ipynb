{
 "cells": [
  {
   "cell_type": "markdown",
   "id": "d2ca84ba",
   "metadata": {},
   "source": [
    "# p-adic distance with fixed-point precision arithmetics\n",
    "\n",
    "* The input is a real value represented by float x\n",
    "* Since x has finite floating point, it is a rational number\n",
    "* Get fractional representation of x as a rational number, (p, q). ( x = p / q )\n",
    "    * p is actually x * 1e12 (the max decimals)\n",
    "    * q is equal to 1e12 (the max decimals)\n",
    "    * then, find the gcd and divide them by the gcd.\n",
    "* Calculate the p-adic valucations v(p) and v(q)\n",
    "* Subtract v(p) - v(q) to get the p-adic absolute value of x."
   ]
  },
  {
   "cell_type": "code",
   "execution_count": 1,
   "id": "741a13a0",
   "metadata": {},
   "outputs": [],
   "source": [
    "import Data.Fixed"
   ]
  },
  {
   "cell_type": "markdown",
   "id": "6266139f",
   "metadata": {},
   "source": [
    "## Convert real (float, double) to fixed-point "
   ]
  },
  {
   "cell_type": "code",
   "execution_count": 2,
   "id": "4acd88a7",
   "metadata": {},
   "outputs": [],
   "source": [
    "realToFixedE12 :: Real x => x -> Fixed E12\n",
    "realToFixedE12 x = realToFrac x :: Fixed E12"
   ]
  },
  {
   "cell_type": "code",
   "execution_count": 3,
   "id": "163e3ac4",
   "metadata": {},
   "outputs": [],
   "source": [
    "intPart :: HasResolution a => Fixed a -> Int\n",
    "intPart x = div' x 1"
   ]
  },
  {
   "cell_type": "markdown",
   "id": "6898b85f",
   "metadata": {},
   "source": [
    "### test"
   ]
  },
  {
   "cell_type": "code",
   "execution_count": 4,
   "id": "72bada7e",
   "metadata": {},
   "outputs": [
    {
     "data": {
      "text/plain": [
       "10.000000000000"
      ]
     },
     "metadata": {},
     "output_type": "display_data"
    }
   ],
   "source": [
    "realToFixedE12 10"
   ]
  },
  {
   "cell_type": "code",
   "execution_count": 5,
   "id": "6991149d",
   "metadata": {},
   "outputs": [
    {
     "data": {
      "text/plain": [
       "3.141500000000"
      ]
     },
     "metadata": {},
     "output_type": "display_data"
    }
   ],
   "source": [
    "realToFixedE12 3.1415"
   ]
  },
  {
   "cell_type": "markdown",
   "id": "3303a840",
   "metadata": {},
   "source": [
    "## Get fractional representation"
   ]
  },
  {
   "cell_type": "code",
   "execution_count": 6,
   "id": "56d59baf",
   "metadata": {},
   "outputs": [
    {
     "data": {
      "text/plain": [
       "3.140000000000"
      ]
     },
     "metadata": {},
     "output_type": "display_data"
    }
   ],
   "source": [
    "let x = realToFixedE12 3.14\n",
    "x"
   ]
  },
  {
   "cell_type": "code",
   "execution_count": 7,
   "id": "dfce55e7",
   "metadata": {},
   "outputs": [
    {
     "data": {
      "text/plain": [
       "1000000000000.000000000000"
      ]
     },
     "metadata": {},
     "output_type": "display_data"
    }
   ],
   "source": [
    "let maxDec = realToFixedE12 1e12\n",
    "maxDec"
   ]
  },
  {
   "cell_type": "code",
   "execution_count": 8,
   "id": "7d8a68a1",
   "metadata": {},
   "outputs": [
    {
     "data": {
      "text/plain": [
       "3140000000000.000000000000"
      ]
     },
     "metadata": {},
     "output_type": "display_data"
    }
   ],
   "source": [
    "x * maxDec"
   ]
  },
  {
   "cell_type": "code",
   "execution_count": 9,
   "id": "6dc802c5",
   "metadata": {},
   "outputs": [
    {
     "data": {
      "text/plain": [
       "3140000000000"
      ]
     },
     "metadata": {},
     "output_type": "display_data"
    }
   ],
   "source": [
    "intPart (x * maxDec)"
   ]
  },
  {
   "cell_type": "code",
   "execution_count": 10,
   "id": "cd1eaa08",
   "metadata": {},
   "outputs": [
    {
     "data": {
      "text/plain": [
       "1.0e12"
      ]
     },
     "metadata": {},
     "output_type": "display_data"
    }
   ],
   "source": [
    "realToFrac 1e12"
   ]
  },
  {
   "cell_type": "code",
   "execution_count": 11,
   "id": "8d5ff107",
   "metadata": {},
   "outputs": [
    {
     "data": {
      "text/plain": [
       "1000000000000"
      ]
     },
     "metadata": {},
     "output_type": "display_data"
    }
   ],
   "source": [
    "round 1e12"
   ]
  },
  {
   "cell_type": "code",
   "execution_count": 12,
   "id": "18c3c2a8",
   "metadata": {},
   "outputs": [
    {
     "ename": "",
     "evalue": "",
     "output_type": "error",
     "traceback": [
      "<interactive>:1:5: error:\n    • Couldn't match expected type ‘Fixed E12’ with actual type ‘Int’\n    • In the second argument of ‘(*)’, namely ‘intPart 1e12’\n      In the expression: x * intPart 1e12\n      In an equation for ‘it’: it = x * intPart 1e12"
     ]
    }
   ],
   "source": [
    "x * intPart 1e12"
   ]
  },
  {
   "cell_type": "code",
   "execution_count": 13,
   "id": "1e9b14ab",
   "metadata": {},
   "outputs": [],
   "source": [
    "fracRep :: Fixed E12 -> (Int, Int)\n",
    "fracRep x = (p', q')\n",
    "    where\n",
    "        maxDecimal = realToFixedE12 1e12\n",
    "        p = intPart (x * maxDecimal)\n",
    "        q = intPart maxDecimal\n",
    "        gcd_val = gcd p q        \n",
    "        p' = p `div` gcd_val\n",
    "        q' = q `div` gcd_val"
   ]
  },
  {
   "cell_type": "markdown",
   "id": "ad316ab3",
   "metadata": {},
   "source": [
    "## p-adic distance"
   ]
  },
  {
   "cell_type": "markdown",
   "id": "02020dbd",
   "metadata": {},
   "source": [
    "### p-adic valuation"
   ]
  },
  {
   "cell_type": "code",
   "execution_count": 14,
   "id": "e96f0dfa",
   "metadata": {},
   "outputs": [],
   "source": [
    "padicValuation :: Int -> Int -> Int\n",
    "padicValuation prime num\n",
    "    | num `mod` prime /=0 = 0 -- if prime does not divide num\n",
    "    | otherwise = 1 + padicValuation prime (num `div` prime)"
   ]
  },
  {
   "cell_type": "code",
   "execution_count": 15,
   "id": "3077fbeb",
   "metadata": {},
   "outputs": [
    {
     "data": {
      "text/plain": [
       "1"
      ]
     },
     "metadata": {},
     "output_type": "display_data"
    }
   ],
   "source": [
    "padicValuation 2 6"
   ]
  },
  {
   "cell_type": "code",
   "execution_count": 16,
   "id": "d33cc6df",
   "metadata": {},
   "outputs": [
    {
     "data": {
      "text/plain": [
       "2"
      ]
     },
     "metadata": {},
     "output_type": "display_data"
    }
   ],
   "source": [
    "padicValuation 2 12"
   ]
  },
  {
   "cell_type": "code",
   "execution_count": 17,
   "id": "4da37844",
   "metadata": {},
   "outputs": [
    {
     "data": {
      "text/plain": [
       "1"
      ]
     },
     "metadata": {},
     "output_type": "display_data"
    }
   ],
   "source": [
    "padicValuation 2 2"
   ]
  },
  {
   "cell_type": "code",
   "execution_count": 18,
   "id": "320df3c5",
   "metadata": {},
   "outputs": [
    {
     "data": {
      "text/plain": [
       "(157,50)"
      ]
     },
     "metadata": {},
     "output_type": "display_data"
    }
   ],
   "source": [
    "let pq = fracRep 3.14\n",
    "pq"
   ]
  },
  {
   "cell_type": "code",
   "execution_count": 19,
   "id": "35651d8b",
   "metadata": {},
   "outputs": [
    {
     "data": {
      "text/plain": [
       "207"
      ]
     },
     "metadata": {},
     "output_type": "display_data"
    }
   ],
   "source": [
    "uncurry (+) (fracRep 3.14)"
   ]
  },
  {
   "cell_type": "code",
   "execution_count": 20,
   "id": "af95a62b",
   "metadata": {},
   "outputs": [],
   "source": [
    "import Control.Arrow ((***))"
   ]
  },
  {
   "cell_type": "code",
   "execution_count": null,
   "id": "f0702b6b",
   "metadata": {},
   "outputs": [],
   "source": []
  },
  {
   "cell_type": "code",
   "execution_count": 21,
   "id": "3b73c06c",
   "metadata": {},
   "outputs": [],
   "source": [
    "padicAbs :: Fractional a => Int -> Fixed E12 -> a\n",
    "padicAbs prime x = fromIntegral prime ^^ (-val_diff)\n",
    "    where\n",
    "        pq = fracRep x -- (Int, Int)\n",
    "        valuationFunc = padicValuation prime\n",
    "        val_pair = (valuationFunc *** valuationFunc ) pq -- (Int, Int)\n",
    "        val_diff = uncurry (-) val_pair -- Int\n",
    "        "
   ]
  },
  {
   "cell_type": "code",
   "execution_count": 22,
   "id": "37af8824",
   "metadata": {},
   "outputs": [
    {
     "data": {
      "text/plain": [
       "0.5"
      ]
     },
     "metadata": {},
     "output_type": "display_data"
    }
   ],
   "source": [
    "padicAbs 2 2"
   ]
  },
  {
   "cell_type": "code",
   "execution_count": 23,
   "id": "1eb52649",
   "metadata": {},
   "outputs": [
    {
     "data": {
      "text/plain": [
       "1"
      ]
     },
     "metadata": {},
     "output_type": "display_data"
    }
   ],
   "source": [
    "padicValuation 2 2"
   ]
  },
  {
   "cell_type": "code",
   "execution_count": 42,
   "id": "3cf146d1",
   "metadata": {},
   "outputs": [],
   "source": [
    "padicDist :: Fractional a => Int -> Fixed E12 -> Fixed E12 -> a\n",
    "padicDist prime x y = padicAbs prime (x - y)"
   ]
  },
  {
   "cell_type": "code",
   "execution_count": 43,
   "id": "33f3cd00",
   "metadata": {},
   "outputs": [
    {
     "data": {
      "text/plain": [
       "1.0"
      ]
     },
     "metadata": {},
     "output_type": "display_data"
    }
   ],
   "source": [
    "padicDist 2 3 2"
   ]
  },
  {
   "cell_type": "code",
   "execution_count": 44,
   "id": "8ff25396",
   "metadata": {},
   "outputs": [
    {
     "data": {
      "text/plain": [
       "0.5"
      ]
     },
     "metadata": {},
     "output_type": "display_data"
    }
   ],
   "source": [
    "padicDist 2 4 2"
   ]
  },
  {
   "cell_type": "code",
   "execution_count": 45,
   "id": "f615d4ca",
   "metadata": {},
   "outputs": [
    {
     "data": {
      "text/plain": [
       "0.25"
      ]
     },
     "metadata": {},
     "output_type": "display_data"
    }
   ],
   "source": [
    "padicDist 2 4 0"
   ]
  },
  {
   "cell_type": "code",
   "execution_count": 46,
   "id": "ca048e5e",
   "metadata": {},
   "outputs": [
    {
     "data": {
      "text/plain": [
       "4.0e-2"
      ]
     },
     "metadata": {},
     "output_type": "display_data"
    }
   ],
   "source": [
    "padicDist 5 75 0"
   ]
  },
  {
   "cell_type": "code",
   "execution_count": null,
   "id": "30892aef",
   "metadata": {},
   "outputs": [],
   "source": []
  },
  {
   "cell_type": "code",
   "execution_count": null,
   "id": "907f3d19",
   "metadata": {},
   "outputs": [],
   "source": []
  },
  {
   "cell_type": "markdown",
   "id": "fcbc2666",
   "metadata": {},
   "source": [
    "# Experiments"
   ]
  },
  {
   "cell_type": "markdown",
   "id": "0fe209a8",
   "metadata": {},
   "source": [
    "The following fails because x is not a fraction."
   ]
  },
  {
   "cell_type": "code",
   "execution_count": 24,
   "id": "27c249b0",
   "metadata": {},
   "outputs": [
    {
     "ename": "",
     "evalue": "",
     "output_type": "error",
     "traceback": [
      "<interactive>:2:23: error:\n    • Couldn't match expected type ‘Fixed E12’ with actual type ‘x’\n      ‘x’ is a rigid type variable bound by\n        the type signature for:\n          convertToFixedE12 :: forall x. Real x => x -> Fixed E12\n        at <interactive>:1:1-45\n    • In the expression: x :: Fixed E12\n      In an equation for ‘convertToFixedE12’: convertToFixedE12 x = x :: Fixed E12\n    • Relevant bindings include\n        x :: x (bound at <interactive>:2:19)\n        convertToFixedE12 :: x -> Fixed E12 (bound at <interactive>:2:1)"
     ]
    }
   ],
   "source": [
    "convertToFixedE12 :: Real x => x -> Fixed E12\n",
    "convertToFixedE12 x = x :: Fixed E12\n"
   ]
  },
  {
   "cell_type": "code",
   "execution_count": 25,
   "id": "5eb5eeda",
   "metadata": {},
   "outputs": [
    {
     "data": {},
     "metadata": {},
     "output_type": "display_data"
    }
   ],
   "source": [
    ":info realToFrac "
   ]
  },
  {
   "cell_type": "code",
   "execution_count": 26,
   "id": "d3d55cab",
   "metadata": {},
   "outputs": [
    {
     "data": {
      "text/plain": [
       "3.140000000000"
      ]
     },
     "metadata": {},
     "output_type": "display_data"
    }
   ],
   "source": [
    "(realToFixedE12 . realToFixedE12) 3.14"
   ]
  },
  {
   "cell_type": "code",
   "execution_count": 27,
   "id": "dbe8ec0f",
   "metadata": {},
   "outputs": [
    {
     "ename": "",
     "evalue": "",
     "output_type": "error",
     "traceback": [
      "<interactive>:1:6: error: Variable not in scope: (&) :: t0 -> (a0 -> a0) -> t"
     ]
    }
   ],
   "source": [
    "3.14 & (+1)"
   ]
  },
  {
   "cell_type": "code",
   "execution_count": 28,
   "id": "ca7b8a96",
   "metadata": {},
   "outputs": [],
   "source": [
    "import Data.Function ((&))"
   ]
  },
  {
   "cell_type": "code",
   "execution_count": 29,
   "id": "6c82a25c",
   "metadata": {},
   "outputs": [
    {
     "data": {
      "text/plain": [
       "4.140000000000001"
      ]
     },
     "metadata": {},
     "output_type": "display_data"
    }
   ],
   "source": [
    "3.14 & (+1)"
   ]
  },
  {
   "cell_type": "code",
   "execution_count": 30,
   "id": "24be5036",
   "metadata": {},
   "outputs": [
    {
     "data": {
      "text/plain": [
       "4.140000000000"
      ]
     },
     "metadata": {},
     "output_type": "display_data"
    }
   ],
   "source": [
    "3.14 & realToFixedE12 & (+1)"
   ]
  },
  {
   "cell_type": "code",
   "execution_count": 31,
   "id": "46285410",
   "metadata": {},
   "outputs": [
    {
     "data": {
      "text/plain": [
       "1.100000000000"
      ]
     },
     "metadata": {},
     "output_type": "display_data"
    }
   ],
   "source": [
    "1.1 ::  Fixed E12"
   ]
  },
  {
   "cell_type": "code",
   "execution_count": 32,
   "id": "b98cc8b6",
   "metadata": {},
   "outputs": [
    {
     "data": {
      "text/plain": [
       "1.100000000000"
      ]
     },
     "metadata": {},
     "output_type": "display_data"
    }
   ],
   "source": [
    "(realToFrac 1.1) :: Fixed E12"
   ]
  },
  {
   "cell_type": "code",
   "execution_count": 33,
   "id": "27660c9a",
   "metadata": {},
   "outputs": [
    {
     "ename": "",
     "evalue": "",
     "output_type": "error",
     "traceback": [
      "<interactive>:1:8: error:\n    • Expected a type, but ‘HasResolution E12’ has kind ‘Constraint’\n    • In an expression type signature: HasResolution E12\n      In the expression: 1.1 :: HasResolution E12\n      In an equation for ‘it’: it = 1.1 :: HasResolution E12"
     ]
    }
   ],
   "source": [
    "1.1 :: HasResolution E12"
   ]
  },
  {
   "cell_type": "code",
   "execution_count": 34,
   "id": "023dab36",
   "metadata": {},
   "outputs": [],
   "source": [
    "fracPart :: HasResolution a=> Fixed a->Fixed a\n",
    "fracPart x = mod' x 1"
   ]
  },
  {
   "cell_type": "code",
   "execution_count": 35,
   "id": "b074865b",
   "metadata": {},
   "outputs": [],
   "source": [
    "intPart :: HasResolution a => Fixed a -> Int\n",
    "intPart x = div' x 1"
   ]
  },
  {
   "cell_type": "code",
   "execution_count": 36,
   "id": "539b19ad",
   "metadata": {},
   "outputs": [
    {
     "data": {
      "text/plain": [
       "3"
      ]
     },
     "metadata": {},
     "output_type": "display_data"
    }
   ],
   "source": [
    "intPart (3.14 :: Fixed E12)"
   ]
  },
  {
   "cell_type": "code",
   "execution_count": 37,
   "id": "5e681177",
   "metadata": {},
   "outputs": [
    {
     "data": {
      "text/html": [
       "<style>/* Styles used for the Hoogle display in the pager */\n",
       ".hoogle-doc {\n",
       "display: block;\n",
       "padding-bottom: 1.3em;\n",
       "padding-left: 0.4em;\n",
       "}\n",
       ".hoogle-code {\n",
       "display: block;\n",
       "font-family: monospace;\n",
       "white-space: pre;\n",
       "}\n",
       ".hoogle-text {\n",
       "display: block;\n",
       "}\n",
       ".hoogle-name {\n",
       "color: green;\n",
       "font-weight: bold;\n",
       "}\n",
       ".hoogle-head {\n",
       "font-weight: bold;\n",
       "}\n",
       ".hoogle-sub {\n",
       "display: block;\n",
       "margin-left: 0.4em;\n",
       "}\n",
       ".hoogle-package {\n",
       "font-weight: bold;\n",
       "font-style: italic;\n",
       "}\n",
       ".hoogle-module {\n",
       "font-weight: bold;\n",
       "}\n",
       ".hoogle-class {\n",
       "font-weight: bold;\n",
       "}\n",
       ".get-type {\n",
       "color: green;\n",
       "font-weight: bold;\n",
       "font-family: monospace;\n",
       "display: block;\n",
       "white-space: pre-wrap;\n",
       "}\n",
       ".show-type {\n",
       "color: green;\n",
       "font-weight: bold;\n",
       "font-family: monospace;\n",
       "margin-left: 1em;\n",
       "}\n",
       ".mono {\n",
       "font-family: monospace;\n",
       "display: block;\n",
       "}\n",
       ".err-msg {\n",
       "color: red;\n",
       "font-style: italic;\n",
       "font-family: monospace;\n",
       "white-space: pre;\n",
       "display: block;\n",
       "}\n",
       "#unshowable {\n",
       "color: red;\n",
       "font-weight: bold;\n",
       "}\n",
       ".err-msg.in.collapse {\n",
       "padding-top: 0.7em;\n",
       "}\n",
       ".highlight-code {\n",
       "white-space: pre;\n",
       "font-family: monospace;\n",
       "}\n",
       ".suggestion-warning { \n",
       "font-weight: bold;\n",
       "color: rgb(200, 130, 0);\n",
       "}\n",
       ".suggestion-error { \n",
       "font-weight: bold;\n",
       "color: red;\n",
       "}\n",
       ".suggestion-name {\n",
       "font-weight: bold;\n",
       "}\n",
       "</style><div class=\"suggestion-name\" style=\"clear:both;\">Redundant bracket</div><div class=\"suggestion-row\" style=\"float: left;\"><div class=\"suggestion-warning\">Found:</div><div class=\"highlight-code\" id=\"haskell\">3.14 & realToFixedE12 & (* 1e12) & intPart\n",
       "  & (gcd (intPart (1e12 :: Fixed E12)))</div></div><div class=\"suggestion-row\" style=\"float: left;\"><div class=\"suggestion-warning\">Why Not:</div><div class=\"highlight-code\" id=\"haskell\">3.14 & realToFixedE12 & (* 1e12) & intPart\n",
       "  & gcd (intPart (1e12 :: Fixed E12))</div></div>"
      ],
      "text/plain": [
       "Line 1: Redundant bracket\n",
       "Found:\n",
       "3.14 & realToFixedE12 & (* 1e12) & intPart\n",
       "  & (gcd (intPart (1e12 :: Fixed E12)))\n",
       "Why not:\n",
       "3.14 & realToFixedE12 & (* 1e12) & intPart\n",
       "  & gcd (intPart (1e12 :: Fixed E12))"
      ]
     },
     "metadata": {},
     "output_type": "display_data"
    },
    {
     "data": {
      "text/plain": [
       "20000000000"
      ]
     },
     "metadata": {},
     "output_type": "display_data"
    }
   ],
   "source": [
    "3.14 & realToFixedE12 & (*1e12) & intPart & (gcd (intPart (1e12 :: Fixed E12)))"
   ]
  },
  {
   "cell_type": "code",
   "execution_count": 38,
   "id": "1989fe54",
   "metadata": {},
   "outputs": [
    {
     "ename": "",
     "evalue": "",
     "output_type": "error",
     "traceback": [
      "<interactive>:1:1: error:\n    • Ambiguous type variable ‘a0’ arising from a use of ‘intPart’\n      prevents the constraint ‘(HasResolution a0)’ from being solved.\n      Probable fix: use a type annotation to specify what ‘k0’, ‘a0’ should be.\n      These potential instances exist:\n        8 instances involving out-of-scope types\n        (use -fprint-potential-instances to see them all)\n    • In the expression: intPart 1e3\n      In an equation for ‘it’: it = intPart 1e3"
     ]
    }
   ],
   "source": [
    "intPart 1e3"
   ]
  },
  {
   "cell_type": "code",
   "execution_count": 39,
   "id": "88072770",
   "metadata": {},
   "outputs": [],
   "source": [
    "intPart :: HasResolution a => Fixed a -> Fixed E12\n",
    "intPart x = (x `mod'` 1) & realToFixedE12"
   ]
  },
  {
   "cell_type": "code",
   "execution_count": 40,
   "id": "c4dbca72",
   "metadata": {},
   "outputs": [
    {
     "data": {
      "text/plain": [
       "1.1"
      ]
     },
     "metadata": {},
     "output_type": "display_data"
    }
   ],
   "source": [
    "realToFrac 1.1"
   ]
  }
 ],
 "metadata": {
  "kernelspec": {
   "display_name": "Haskell",
   "language": "haskell",
   "name": "haskell"
  },
  "language_info": {
   "codemirror_mode": "ihaskell",
   "file_extension": ".hs",
   "mimetype": "text/x-haskell",
   "name": "haskell",
   "pygments_lexer": "Haskell",
   "version": "9.2.7"
  }
 },
 "nbformat": 4,
 "nbformat_minor": 5
}
