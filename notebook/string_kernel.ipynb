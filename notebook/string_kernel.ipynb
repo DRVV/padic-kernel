{
 "cells": [
  {
   "cell_type": "code",
   "execution_count": 1,
   "metadata": {},
   "outputs": [],
   "source": [
    "import numpy as np"
   ]
  },
  {
   "cell_type": "code",
   "execution_count": 2,
   "metadata": {},
   "outputs": [],
   "source": [
    "def string_kernel(x,y):\n",
    "    m = len(x)\n",
    "    n = len(y)\n",
    "\n",
    "    S = 0\n",
    "    for i in range(m):\n",
    "        for j in range(i, m):\n",
    "            for k in range(n):\n",
    "                if x[(i-1):j] == y[k-1 : (k+j-i)]:\n",
    "                    S= S + 1\n",
    "                    print(S, 'x:', x[(i-1):j], 'y:', y[k-1:(k+j-i)])\n",
    "\n",
    "    return S"
   ]
  },
  {
   "cell_type": "code",
   "execution_count": 17,
   "metadata": {},
   "outputs": [
    {
     "name": "stdout",
     "output_type": "stream",
     "text": [
      "1 x:  y: \n",
      "2 x:  y: \n",
      "3 x:  y: \n",
      "4 x:  y: \n",
      "5 x:  y: \n",
      "6 x: a y: a\n",
      "7 x: ab y: ab\n",
      "8 x: abc y: abc\n",
      "9 x: abcd y: abcd\n",
      "10 x: b y: b\n",
      "11 x: bc y: bc\n",
      "12 x: bcd y: bcd\n",
      "13 x: c y: c\n",
      "14 x: cd y: cd\n",
      "15 x: d y: d\n"
     ]
    },
    {
     "data": {
      "text/plain": [
       "15"
      ]
     },
     "execution_count": 17,
     "metadata": {},
     "output_type": "execute_result"
    }
   ],
   "source": [
    "x = 'abcde'\n",
    "y = 'abcdd'\n",
    "\n",
    "string_kernel(x,y)"
   ]
  },
  {
   "cell_type": "code",
   "execution_count": null,
   "metadata": {},
   "outputs": [],
   "source": []
  }
 ],
 "metadata": {
  "kernelspec": {
   "display_name": "padickernel-Dba9W35X-py3.10",
   "language": "python",
   "name": "python3"
  },
  "language_info": {
   "codemirror_mode": {
    "name": "ipython",
    "version": 3
   },
   "file_extension": ".py",
   "mimetype": "text/x-python",
   "name": "python",
   "nbconvert_exporter": "python",
   "pygments_lexer": "ipython3",
   "version": "3.10.10"
  },
  "orig_nbformat": 4,
  "vscode": {
   "interpreter": {
    "hash": "32c04f078b760c14bdfc0c93f150add10550123998f27e885bb309ad50930e25"
   }
  }
 },
 "nbformat": 4,
 "nbformat_minor": 2
}
